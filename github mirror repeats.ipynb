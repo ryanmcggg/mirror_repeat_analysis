{
 "cells": [
  {
   "cell_type": "code",
   "execution_count": null,
   "id": "1e1760a1-a1eb-470c-b9e4-8de2255db6b6",
   "metadata": {},
   "outputs": [],
   "source": [
    "import pandas as pd\n",
    "import numpy as np\n",
    "import random\n",
    "import pickle\n",
    "import gzip\n",
    "import re\n",
    "import fastapy\n",
    "import gc\n",
    "from scipy import stats\n",
    "\n",
    "import plotly     # https://plotly.com/python/getting-started/\n",
    "import plotly.graph_objects as go\n",
    "from plotly.subplots import make_subplots\n",
    "import plotly.io as pio\n",
    "pio.renderers.default = 'iframe'\n",
    "pio.templates.default = \"none\"\n",
    "# for image export: conda install python-kaleido==0.1.0"
   ]
  },
  {
   "cell_type": "code",
   "execution_count": null,
   "id": "a85ab974-b1e2-4757-b887-14fe5c8e0b71",
   "metadata": {},
   "outputs": [],
   "source": [
    "bases = ['A', 'T', 'G', 'C']\n",
    "def reverse_complement(dna):\n",
    "    complement = {'A': 'T', 'C': 'G', 'G': 'C', 'T': 'A', 'N': 'N'}\n",
    "    return ''.join([complement[base] for base in dna[::-1]]) \n",
    "def repeat_frames_RC(input_seq):\n",
    "    return list(pd.Series([''.join(input_seq*2)[i:len(input_seq)+i] for i in range(len(input_seq))] + [reverse_complement(seq) for seq in [''.join(input_seq*2)[i:len(input_seq)+i] for i in range(len(input_seq))]]).sort_values().drop_duplicates())"
   ]
  },
  {
   "cell_type": "markdown",
   "id": "25a5c628-08e8-45a4-aa74-22a836fa3f9f",
   "metadata": {},
   "source": [
    "## Load reference genome\n",
    "T2T v2.0 Fasta file <br>\n",
    "download \"hs1.fa.gz\" from http://hgdownload.soe.ucsc.edu/goldenPath/hs1/bigZips/<br>\n",
    "also available from https://www.ncbi.nlm.nih.gov/datasets/genome/GCF_009914755.1/<br>\n",
    "Fasta file can remain compressed<br>"
   ]
  },
  {
   "cell_type": "code",
   "execution_count": null,
   "id": "1aff1e50-98c0-480c-958f-498df1cbea70",
   "metadata": {},
   "outputs": [],
   "source": [
    "chrom_list = list(range(1,23))\n",
    "chrom_list_XY = list(range(1,23)) + ['X', 'Y']"
   ]
  },
  {
   "cell_type": "code",
   "execution_count": null,
   "id": "6f75ba77-9dd4-41a4-a4cb-21c14357c6ca",
   "metadata": {},
   "outputs": [],
   "source": [
    "CHM13_genome_fasta = list(fastapy.parse('genomes/hs1.fa.gz'))\n",
    "CHM13_genome = dict()\n",
    "for seq in CHM13_genome_fasta:\n",
    "    try:\n",
    "        name = int(seq.id[3:])\n",
    "    except:\n",
    "        name = seq.id[3:]\n",
    "    CHM13_genome[name] = seq.seq.upper()\n",
    "del CHM13_genome_fasta\n",
    "del CHM13_genome['M']\n",
    "gc.collect()"
   ]
  },
  {
   "cell_type": "code",
   "execution_count": null,
   "id": "7b4fa222-5c4d-449e-8fe9-a5d378689caa",
   "metadata": {},
   "outputs": [],
   "source": [
    "chrom_lengths = pd.Series([len(CHM13_genome[seq]) for seq in CHM13_genome], index = [seq for seq in CHM13_genome])"
   ]
  },
  {
   "cell_type": "code",
   "execution_count": null,
   "id": "afe01488-93a0-4ce3-8a3a-5945f24562ae",
   "metadata": {},
   "outputs": [],
   "source": [
    "# Function to generate random coordinates matched to any given database of loci\n",
    "def generate_random_matched_by_length(input_df, reference = CHM13_genome, seq = True, length_col = 'length', chrom_col = 'chrom', start_col = 'start', end_col = 'end'):\n",
    "    input_df = input_df.copy()\n",
    "    chrom_lengths = pd.Series([len(reference[seq]) for seq in reference], index = chrom_list_XY)\n",
    "    if length_col not in input_df.columns:\n",
    "        input_df[length_col] = input_df[end_col] - input_df[start_col]\n",
    "    counts_by_chrom = input_df.groupby([chrom_col, length_col])[start_col].count()\n",
    "    random_coordinates = dict()\n",
    "    for chrom in set(counts_by_chrom.index.get_level_values(0)):\n",
    "        print('\\r' + str(chrom), end='         ', flush = True)\n",
    "        random_coordinates[chrom] = dict()\n",
    "        for length in counts_by_chrom.loc[chrom].index:\n",
    "            random_coordinates[chrom][length] = pd.DataFrame()\n",
    "            random_coordinates[chrom][length][start_col] = pd.Series(random.sample(range(chrom_lengths[chrom] - length), counts_by_chrom.loc[chrom][length]))\n",
    "            random_coordinates[chrom][length][end_col] = random_coordinates[chrom][length][start_col] + length\n",
    "        random_coordinates[chrom] = pd.concat(random_coordinates[chrom])\n",
    "    random_coordinates = pd.concat(random_coordinates).reset_index().drop(['level_2'], axis=1)\n",
    "    random_coordinates.columns = [chrom_col, length_col, start_col, end_col]\n",
    "    if seq == True:\n",
    "        random_coordinates['Sequence'] = [reference[chrom][start:end] for chrom, start, end in zip(random_coordinates[chrom_col], random_coordinates[start_col], random_coordinates[end_col])]\n",
    "\n",
    "    return random_coordinates.sort_values(by = [chrom_col, start_col, end_col]).reset_index(drop = True)"
   ]
  },
  {
   "cell_type": "markdown",
   "id": "ccce126d-52f4-4a5a-afb5-8458f97a9699",
   "metadata": {
    "jp-MarkdownHeadingCollapsed": true
   },
   "source": [
    "# Counting STRs within other repeat motifs"
   ]
  },
  {
   "cell_type": "markdown",
   "id": "0b4625f0-a09c-4458-b712-c36ca73962fd",
   "metadata": {},
   "source": [
    "#### Define some objects"
   ]
  },
  {
   "cell_type": "code",
   "execution_count": null,
   "id": "967d6be1-7fef-4e56-98fb-94dbd1c7d2b5",
   "metadata": {},
   "outputs": [],
   "source": [
    "# regex patterns for finding STRs\n",
    "str_re = dict()\n",
    "str_re[1] = re.compile(r'([ATGC]{1}?)\\1+'); str_re[2] = re.compile(r'([ATGC]{2}?)\\1+'); str_re[3] = re.compile(r'([ATGC]{3}?)\\1+'); str_re[4] = re.compile(r'([ATGC]{4}?)\\1+'); str_re[5] = re.compile(r'([ATGC]{5}?)\\1+'); str_re[6] = re.compile(r'([ATGC]{6}?)\\1+'); str_re[7] = re.compile(r'([ATGC]{7}?)\\1+'); str_re[8] = re.compile(r'([ATGC]{8}?)\\1+'); str_re[9] = re.compile(r'([ATGC]{9,}?)\\1+')"
   ]
  },
  {
   "cell_type": "code",
   "execution_count": null,
   "id": "6551d270-fdb9-43ec-92c7-84478f2c9376",
   "metadata": {},
   "outputs": [],
   "source": [
    "portion_STR = dict(); KDE_all = dict(); vio_range = pd.Series(range(101))/100"
   ]
  },
  {
   "cell_type": "markdown",
   "id": "f05d2e21-f047-4621-852f-8573d258df66",
   "metadata": {},
   "source": [
    "# Mirror repeats"
   ]
  },
  {
   "cell_type": "markdown",
   "id": "79cc593b-4a2e-46ee-924b-740312224417",
   "metadata": {},
   "source": [
    "### Load MR database"
   ]
  },
  {
   "cell_type": "code",
   "execution_count": null,
   "id": "aeb300e8-dca8-42a9-a905-249ec1af6a08",
   "metadata": {},
   "outputs": [],
   "source": [
    "# Load database of mirror repeats in CHM13 (generated using methods from McGinty and Sunyaev 2023)\n",
    "MR_all = pd.read_csv('repeat_db/MR.csv.gzip', compression = 'gzip', low_memory = False)\n",
    "MR_all['chrom'] = [str(chrom) if chrom in ['X', 'Y'] else int(chrom) for chrom in MR_all['chrom']]\n",
    "MR_all['stem_len'] = MR_all['L_end'] - MR_all['L_start']\n",
    "MR_all['spacer'] = MR_all['R_start'] - MR_all['L_end']\n",
    "MR_all['seq_L'] = [CHM13_genome[chrom][start: end+1] for chrom, start, end in zip(MR_all['chrom'], MR_all['L_start'], MR_all['L_end'])]"
   ]
  },
  {
   "cell_type": "code",
   "execution_count": null,
   "id": "00266694-6c9a-4899-a186-7c3c546492f4",
   "metadata": {},
   "outputs": [],
   "source": [
    "# For fully-overlapping entries, keep the one with the longest stem length\n",
    "# Note: step has already been done for database in Supplemental Files\n",
    "MR_all = MR_all.sort_values(by = ['chrom', 'L_start', 'stem_len']).drop_duplicates(subset = ['chrom', 'L_start'], keep = 'last')"
   ]
  },
  {
   "cell_type": "code",
   "execution_count": null,
   "id": "84dafee2-2862-482d-beaf-ebfc150b06a4",
   "metadata": {},
   "outputs": [],
   "source": [
    "MR_all['%R'] = (MR_all['seq_L'].str.count('A') + MR_all['seq_L'].str.count('G') + MR_all['seq_R'].str.count('A') + MR_all['seq_R'].str.count('G')) / (2 * MR_all['stem_len'])\n",
    "MR_all['%AT'] = (MR_all['seq_L'].str.count('A') + MR_all['seq_L'].str.count('T') + MR_all['seq_R'].str.count('A') + MR_all['seq_R'].str.count('T')) / (2 * MR_all['stem_len'])\n",
    "MR_all['%AC'] = (MR_all['seq_L'].str.count('A') + MR_all['seq_L'].str.count('C') + MR_all['seq_R'].str.count('A') + MR_all['seq_R'].str.count('C')) / (2 * MR_all['stem_len'])"
   ]
  },
  {
   "cell_type": "markdown",
   "id": "8bfdfed9-8f39-49e1-8694-0a474f1a9716",
   "metadata": {
    "jp-MarkdownHeadingCollapsed": true
   },
   "source": [
    "## Find STRs within MRs"
   ]
  },
  {
   "cell_type": "code",
   "execution_count": null,
   "id": "3e6fe8fb-8980-4a53-bc8d-1ecbbf6f4509",
   "metadata": {},
   "outputs": [],
   "source": [
    "for n in range(1,10):\n",
    "    print('\\r' + str(n), end = '  ')\n",
    "    MR_all['STR_'+str(n)] = [list(set(str_re[n].findall(seq))) for seq in MR_all['seq_L']]\n",
    "MR_all['STR_1-9_seqL'] = MR_all['STR_1'] + MR_all['STR_2'] + MR_all['STR_3'] + MR_all['STR_4'] + MR_all['STR_5'] + MR_all['STR_6'] + MR_all['STR_7'] + MR_all['STR_8'] + MR_all['STR_9']\n",
    "MR_all['STR_1-9_seqL'] = MR_all['STR_1-9_seqL'].apply(lambda x: list(set(x)))\n",
    "del MR_all['STR_1']; del MR_all['STR_2']; del MR_all['STR_3']; del MR_all['STR_4']; del MR_all['STR_5']; del MR_all['STR_6']; del MR_all['STR_7']; del MR_all['STR_8']; del MR_all['STR_9']\n",
    "MR_all['total_nt_STRs_max_seqL'] = [max([len(re.findall(STR, seq)) * len(STR) for STR in STRs], default = 0) for seq, STRs in zip(MR_all['seq_L'], MR_all['STR_1-9_seqL'])]\n",
    "MR_all['portion_STR_seqL'] = MR_all['total_nt_STRs_max_seqL'] / MR_all['stem_len']\n",
    "MR_all['diff_STR_seqL'] = MR_all['stem_len'] - MR_all['total_nt_STRs_max_seqL']"
   ]
  },
  {
   "cell_type": "code",
   "execution_count": null,
   "id": "88c78cdb-31c5-4e34-ad5c-fcb16a7f81c5",
   "metadata": {},
   "outputs": [],
   "source": [
    "MR_portion = pd.concat([MR_all.groupby(['stem_len'])['portion_STR_seqL'].mean(), MR_all.groupby(['stem_len'])['portion_STR_seqL'].quantile(0.975), MR_all.groupby(['stem_len'])['portion_STR_seqL'].quantile(0.025)], axis=1)\n",
    "MR_portion.columns = ['mean', 'high', 'low']\n",
    "portion_STR['MR'] = MR_portion"
   ]
  },
  {
   "cell_type": "markdown",
   "id": "e9866d19-9d58-456d-a679-65c9fb34fba6",
   "metadata": {},
   "source": [
    "#### STR content in MRs according to sequence composition"
   ]
  },
  {
   "cell_type": "code",
   "execution_count": null,
   "id": "4f1f9e5d-9008-476c-af8f-9e24c8a17401",
   "metadata": {},
   "outputs": [],
   "source": [
    "MR_hRhY = MR_all.loc[(MR_all['%R'] > 0.95) | (MR_all['%R'] < 0.05)].copy()\n",
    "MR_hRhY_portion = pd.concat([MR_hRhY.groupby(['stem_len'])['portion_STR_seqL'].mean(), MR_hRhY.groupby(['stem_len'])['portion_STR_seqL'].quantile(0.975), MR_hRhY.groupby(['stem_len'])['portion_STR_seqL'].quantile(0.025)], axis=1)\n",
    "MR_hRhY_portion.columns = ['mean', 'high', 'low']\n",
    "portion_STR['MR_hRhY'] = MR_hRhY_portion"
   ]
  },
  {
   "cell_type": "code",
   "execution_count": null,
   "id": "b530da66-cc92-43c0-ba38-fd2b55875aa0",
   "metadata": {},
   "outputs": [],
   "source": [
    "MR_other = MR_all.loc[(MR_all['%R'] < 0.95) & (MR_all['%R'] > 0.05) & (MR_all['%AT'] < 0.95) & (MR_all['%AT'] > 0.05) & (MR_all['%AC'] < 0.95) & (MR_all['%AC'] > 0.05)].copy()\n",
    "MR_other_portion = pd.concat([MR_other.groupby(['stem_len'])['portion_STR_seqL'].mean(), MR_other.groupby(['stem_len'])['portion_STR_seqL'].quantile(0.975), MR_other.groupby(['stem_len'])['portion_STR_seqL'].quantile(0.025)], axis=1)\n",
    "MR_other_portion.columns = ['mean', 'high', 'low']\n",
    "portion_STR['MR_other'] = MR_other_portion"
   ]
  },
  {
   "cell_type": "markdown",
   "id": "66f7ce2b-8970-4a2a-b0a0-db545d638c7a",
   "metadata": {},
   "source": [
    "### Random matched coordinates"
   ]
  },
  {
   "cell_type": "markdown",
   "id": "13c90170-ab8d-439a-a0a9-04ab5eedb7cf",
   "metadata": {},
   "source": [
    "#### Matched for all MRs"
   ]
  },
  {
   "cell_type": "code",
   "execution_count": null,
   "id": "5cdc7cce-d3ad-4127-b12a-026144c66e43",
   "metadata": {},
   "outputs": [],
   "source": [
    "random_matched_MR_all = generate_random_matched_by_length(MR_all[['chrom', 'L_start', 'L_end']], start_col = 'L_start', end_col = 'L_end')"
   ]
  },
  {
   "cell_type": "code",
   "execution_count": null,
   "id": "ef5bf0fa-7dc3-4a6e-9ef3-383951d07e8e",
   "metadata": {},
   "outputs": [],
   "source": [
    "for n in range(1,10):\n",
    "    print('\\r' + str(n), end = '  ')\n",
    "    random_matched_MR_all['STR_'+str(n)] = [list(set(str_re[n].findall(seq))) for seq in random_matched_MR_all['Sequence']]\n",
    "random_matched_MR_all['STR_1-9_seq'] = random_matched_MR_all['STR_1'] + random_matched_MR_all['STR_2'] + random_matched_MR_all['STR_3'] + random_matched_MR_all['STR_4'] + random_matched_MR_all['STR_5'] + random_matched_MR_all['STR_6'] + random_matched_MR_all['STR_7'] + random_matched_MR_all['STR_8'] + random_matched_MR_all['STR_9']\n",
    "random_matched_MR_all['STR_1-9_seq'] = random_matched_MR_all['STR_1-9_seq'].apply(lambda x: list(set(x)))\n",
    "del random_matched_MR_all['STR_1']; del random_matched_MR_all['STR_2']; del random_matched_MR_all['STR_3']; del random_matched_MR_all['STR_4']; del random_matched_MR_all['STR_5']; del random_matched_MR_all['STR_6']; del random_matched_MR_all['STR_7']; del random_matched_MR_all['STR_8']; del random_matched_MR_all['STR_9']\n",
    "random_matched_MR_all['total_nt_STRs_max_seq'] = [max([len(re.findall(STR, seq)) * len(STR) for STR in STRs], default = 0) for seq, STRs in zip(random_matched_MR_all['Sequence'], random_matched_MR_all['STR_1-9_seq'])]\n",
    "random_matched_MR_all['portion_STR_seq'] = random_matched_MR_all['total_nt_STRs_max_seq'] / random_matched_MR_all['length']\n",
    "random_matched_MR_all['diff_STR_seq'] = random_matched_MR_all['length'] - random_matched_MR_all['total_nt_STRs_max_seq']\n",
    "\n",
    "portion_STR['random_MR'] = random_matched_MR_portion"
   ]
  },
  {
   "cell_type": "markdown",
   "id": "669eaaf2-c02b-468d-bf1b-7a64e2752cf6",
   "metadata": {},
   "source": [
    "#### Matched for hR/HY MRs, non-hR/hY MRs"
   ]
  },
  {
   "cell_type": "code",
   "execution_count": null,
   "id": "95141c24-6464-4f94-8e86-01048b4364be",
   "metadata": {},
   "outputs": [],
   "source": [
    "random_matched_MR_hRhY = generate_random_matched_by_length(MR_hRhY[['chrom', 'L_start', 'L_end']], start_col = 'L_start', end_col = 'L_end')"
   ]
  },
  {
   "cell_type": "code",
   "execution_count": null,
   "id": "c4db44a0-8d58-4f47-9b14-8c9e8ff8516f",
   "metadata": {},
   "outputs": [],
   "source": [
    "for n in range(1,10):\n",
    "    print('\\r' + str(n), end = '  ')\n",
    "    random_matched_MR_hRhY['STR_'+str(n)] = [list(set(str_re[n].findall(seq))) for seq in random_matched_MR_hRhY['Sequence']]\n",
    "random_matched_MR_hRhY['STR_1-9_seq'] = random_matched_MR_hRhY['STR_1'] + random_matched_MR_hRhY['STR_2'] + random_matched_MR_hRhY['STR_3'] + random_matched_MR_hRhY['STR_4'] + random_matched_MR_hRhY['STR_5'] + random_matched_MR_hRhY['STR_6'] + random_matched_MR_hRhY['STR_7'] + random_matched_MR_hRhY['STR_8'] + random_matched_MR_hRhY['STR_9']\n",
    "random_matched_MR_hRhY['STR_1-9_seq'] = random_matched_MR_hRhY['STR_1-9_seq'].apply(lambda x: list(set(x)))\n",
    "del random_matched_MR_hRhY['STR_1']; del random_matched_MR_hRhY['STR_2']; del random_matched_MR_hRhY['STR_3']; del random_matched_MR_hRhY['STR_4']; del random_matched_MR_hRhY['STR_5']; del random_matched_MR_hRhY['STR_6']; del random_matched_MR_hRhY['STR_7']; del random_matched_MR_hRhY['STR_8']; del random_matched_MR_hRhY['STR_9']\n",
    "random_matched_MR_hRhY['total_nt_STRs_max_seq'] = [max([len(re.findall(STR, seq)) * len(STR) for STR in STRs], default = 0) for seq, STRs in zip(random_matched_MR_hRhY['Sequence'], random_matched_MR_hRhY['STR_1-9_seq'])]\n",
    "random_matched_MR_hRhY['portion_STR_seq'] = random_matched_MR_hRhY['total_nt_STRs_max_seq'] / random_matched_MR_hRhY['length']\n",
    "random_matched_MR_hRhY['diff_STR_seq'] = random_matched_MR_hRhY['length'] - random_matched_MR_hRhY['total_nt_STRs_max_seq']\n",
    "\n",
    "portion_STR['random_MR_hRhY'] = random_matched_MR_hRhY_portion"
   ]
  },
  {
   "cell_type": "code",
   "execution_count": null,
   "id": "6f30527e-f8e2-4460-87f2-e8dcf12fe84c",
   "metadata": {},
   "outputs": [],
   "source": [
    "random_matched_MR_other = generate_random_matched_by_length(MR_other[['chrom', 'L_start', 'L_end']], start_col = 'L_start', end_col = 'L_end')"
   ]
  },
  {
   "cell_type": "code",
   "execution_count": null,
   "id": "662ad032-01ab-40db-9807-f398381a2400",
   "metadata": {},
   "outputs": [],
   "source": [
    "for n in range(1,10):\n",
    "    print('\\r' + str(n), end = '  ')\n",
    "    random_matched_MR_other['STR_'+str(n)] = [list(set(str_re[n].findall(seq))) for seq in random_matched_MR_other['Sequence']]\n",
    "random_matched_MR_other['STR_1-9_seq'] = random_matched_MR_other['STR_1'] + random_matched_MR_other['STR_2'] + random_matched_MR_other['STR_3'] + random_matched_MR_other['STR_4'] + random_matched_MR_other['STR_5'] + random_matched_MR_other['STR_6'] + random_matched_MR_other['STR_7'] + random_matched_MR_other['STR_8'] + random_matched_MR_other['STR_9']\n",
    "random_matched_MR_other['STR_1-9_seq'] = random_matched_MR_other['STR_1-9_seq'].apply(lambda x: list(set(x)))\n",
    "del random_matched_MR_other['STR_1']; del random_matched_MR_other['STR_2']; del random_matched_MR_other['STR_3']; del random_matched_MR_other['STR_4']; del random_matched_MR_other['STR_5']; del random_matched_MR_other['STR_6']; del random_matched_MR_other['STR_7']; del random_matched_MR_other['STR_8']; del random_matched_MR_other['STR_9']\n",
    "random_matched_MR_other['total_nt_STRs_max_seq'] = [max([len(re.findall(STR, seq)) * len(STR) for STR in STRs], default = 0) for seq, STRs in zip(random_matched_MR_other['Sequence'], random_matched_MR_other['STR_1-9_seq'])]\n",
    "random_matched_MR_other['portion_STR_seq'] = random_matched_MR_other['total_nt_STRs_max_seq'] / random_matched_MR_other['length']\n",
    "random_matched_MR_other['diff_STR_seq'] = random_matched_MR_other['length'] - random_matched_MR_other['total_nt_STRs_max_seq']\n",
    "\n",
    "portion_STR['random_MR_other'] = random_matched_MR_other_portion"
   ]
  },
  {
   "cell_type": "markdown",
   "id": "12f7d3e2-d8ba-4e30-93e3-596c885868c7",
   "metadata": {
    "jp-MarkdownHeadingCollapsed": true
   },
   "source": [
    "### STR probability density"
   ]
  },
  {
   "cell_type": "code",
   "execution_count": null,
   "id": "9f657a50-db3e-4107-ba5e-8e83d3af5032",
   "metadata": {},
   "outputs": [],
   "source": [
    "MR_all['stem_len/10'] = MR_all['stem_len']//10\n",
    "\n",
    "MR_vio = dict()\n",
    "for group in range(1,10):\n",
    "    print('\\r' + str(group), end = '    ')\n",
    "    current = stats.gaussian_kde(MR_all.loc[MR_all['stem_len/10'] == group]['portion_STR_seqL'].dropna())\n",
    "    MR_vio[str(group*10) + '-' + str(((group+1)*10)-1)] = current(vio_range)\n",
    "\n",
    "current = stats.gaussian_kde(MR_all.loc[(MR_all['stem_len/10'] >= 10) & (MR_all['stem_len/10'] < 15)]['portion_STR_seqL'].dropna())\n",
    "MR_vio['100-149'] = current(vio_range)\n",
    "current = stats.gaussian_kde(MR_all.loc[(MR_all['stem_len/10'] >= 15) & (MR_all['stem_len/10'] < 20)]['portion_STR_seqL'].dropna())\n",
    "MR_vio['150-199'] = current(vio_range)\n",
    "current = stats.gaussian_kde(MR_all.loc[(MR_all['stem_len/10'] >= 20) & (MR_all['stem_len/10'] < 25)]['portion_STR_seqL'].dropna())\n",
    "MR_vio['200-249'] = current(vio_range)\n",
    "current = stats.gaussian_kde(MR_all.loc[(MR_all['stem_len/10'] >= 25) & (MR_all['stem_len/10'] < 30)]['portion_STR_seqL'].dropna())\n",
    "MR_vio['250-299'] = current(vio_range)\n",
    "current = stats.gaussian_kde(MR_all.loc[(MR_all['stem_len/10'] >= 30)]['portion_STR_seqL'].dropna())\n",
    "MR_vio['>=300'] = current(vio_range)\n",
    "\n",
    "KDE_all['MR'] = MR_vio"
   ]
  },
  {
   "cell_type": "code",
   "execution_count": null,
   "id": "4f559567-7009-496f-bc6a-1b6ab245368b",
   "metadata": {},
   "outputs": [],
   "source": [
    "random_matched_MR_all['len/10'] = random_matched_MR_all['length']//10\n",
    "\n",
    "random_MR_vio = dict()\n",
    "for group in range(1,11):\n",
    "    print('\\r' + str(group), end = '    ')\n",
    "    current = stats.gaussian_kde(random_matched_MR_all.loc[random_matched_MR_all['len/10'] == group]['portion_STR_seq'].dropna())\n",
    "    random_MR_vio[str(group*10) + '-' + str(((group+1)*10)-1)] = current(vio_range)\n",
    "\n",
    "current = stats.gaussian_kde(random_matched_MR_all.loc[(random_matched_MR_all['len/10'] >= 10) & (random_matched_MR_all['len/10'] < 15)]['portion_STR_seq'].dropna())\n",
    "random_MR_vio['100-149'] = current(vio_range)\n",
    "current = stats.gaussian_kde(random_matched_MR_all.loc[(random_matched_MR_all['len/10'] >= 15) & (random_matched_MR_all['len/10'] < 20)]['portion_STR_seq'].dropna())\n",
    "random_MR_vio['150-199'] = current(vio_range)\n",
    "current = stats.gaussian_kde(random_matched_MR_all.loc[(random_matched_MR_all['len/10'] >= 20) & (random_matched_MR_all['len/10'] < 25)]['portion_STR_seq'].dropna())\n",
    "random_MR_vio['200-249'] = current(vio_range)\n",
    "current = stats.gaussian_kde(random_matched_MR_all.loc[(random_matched_MR_all['len/10'] >= 25) & (random_matched_MR_all['len/10'] < 30)]['portion_STR_seq'].dropna())\n",
    "random_MR_vio['250-299'] = current(vio_range)\n",
    "current = stats.gaussian_kde(random_matched_MR_all.loc[(random_matched_MR_all['len/10'] >= 30)]['portion_STR_seq'].dropna())\n",
    "random_MR_vio['>=300'] = current(vio_range)\n",
    "\n",
    "KDE_all['random_MR'] = random_MR_vio"
   ]
  },
  {
   "cell_type": "code",
   "execution_count": null,
   "id": "efc2ef6b-6833-4209-883c-2f8da7ddaea2",
   "metadata": {},
   "outputs": [],
   "source": [
    "MR_hRhY['stem_len/10'] = MR_hRhY['stem_len']//10\n",
    "\n",
    "MR_vio_hRhY = dict()\n",
    "for group in range(1,10):\n",
    "    print('\\r' + str(group), end = '    ')\n",
    "    current = stats.gaussian_kde(MR_hRhY.loc[MR_hRhY['stem_len/10'] == group]['portion_STR_seqL'].dropna())\n",
    "    MR_vio_hRhY[str(group*10) + '-' + str(((group+1)*10)-1)] = current(vio_range)\n",
    "\n",
    "current = stats.gaussian_kde(MR_hRhY.loc[(MR_hRhY['stem_len/10'] >= 10) & (MR_hRhY['stem_len/10'] < 15)]['portion_STR_seqL'].dropna())\n",
    "MR_vio_hRhY['100-149'] = current(vio_range)\n",
    "current = stats.gaussian_kde(MR_hRhY.loc[(MR_hRhY['stem_len/10'] >= 15) & (MR_hRhY['stem_len/10'] < 20)]['portion_STR_seqL'].dropna())\n",
    "MR_vio_hRhY['150-199'] = current(vio_range)\n",
    "current = stats.gaussian_kde(MR_hRhY.loc[(MR_hRhY['stem_len/10'] >= 20) & (MR_hRhY['stem_len/10'] < 25)]['portion_STR_seqL'].dropna())\n",
    "MR_vio_hRhY['200-249'] = current(vio_range)\n",
    "current = stats.gaussian_kde(MR_hRhY.loc[(MR_hRhY['stem_len/10'] >= 25) & (MR_hRhY['stem_len/10'] < 30)]['portion_STR_seqL'].dropna())\n",
    "MR_vio_hRhY['250-299'] = current(vio_range)\n",
    "current = stats.gaussian_kde(MR_hRhY.loc[(MR_hRhY['stem_len/10'] >= 30)]['portion_STR_seqL'].dropna())\n",
    "MR_vio_hRhY['>=300'] = current(vio_range)\n",
    "\n",
    "KDE_all['MR_hRhY'] = MR_vio_hRhY"
   ]
  },
  {
   "cell_type": "code",
   "execution_count": null,
   "id": "a2fd226e-df7d-4d2b-86a0-274507efa490",
   "metadata": {},
   "outputs": [],
   "source": [
    "random_matched_MR_hRhY['len/10'] = random_matched_MR_hRhY['length']//10\n",
    "\n",
    "random_MR_vio_hRhY = dict()\n",
    "for group in range(1,11):\n",
    "    print('\\r' + str(group), end = '    ')\n",
    "    current = stats.gaussian_kde(random_matched_MR_hRhY.loc[random_matched_MR_hRhY['len/10'] == group]['portion_STR_seq'].dropna())\n",
    "    random_MR_vio_hRhY[str(group*10) + '-' + str(((group+1)*10)-1)] = current(vio_range)\n",
    "\n",
    "current = stats.gaussian_kde(random_matched_MR_hRhY.loc[(random_matched_MR_hRhY['len/10'] >= 10) & (random_matched_MR_hRhY['len/10'] < 15)]['portion_STR_seq'].dropna())\n",
    "random_MR_vio_hRhY['100-149'] = current(vio_range)\n",
    "current = stats.gaussian_kde(random_matched_MR_hRhY.loc[(random_matched_MR_hRhY['len/10'] >= 15) & (random_matched_MR_hRhY['len/10'] < 20)]['portion_STR_seq'].dropna())\n",
    "random_MR_vio_hRhY['150-199'] = current(vio_range)\n",
    "current = stats.gaussian_kde(random_matched_MR_hRhY.loc[(random_matched_MR_hRhY['len/10'] >= 20) & (random_matched_MR_hRhY['len/10'] < 25)]['portion_STR_seq'].dropna())\n",
    "random_MR_vio_hRhY['200-249'] = current(vio_range)\n",
    "current = stats.gaussian_kde(random_matched_MR_hRhY.loc[(random_matched_MR_hRhY['len/10'] >= 25) & (random_matched_MR_hRhY['len/10'] < 30)]['portion_STR_seq'].dropna())\n",
    "random_MR_vio_hRhY['250-299'] = current(vio_range)\n",
    "current = stats.gaussian_kde(random_matched_MR_hRhY.loc[(random_matched_MR_hRhY['len/10'] >= 30)]['portion_STR_seq'].dropna())\n",
    "random_MR_vio_hRhY['>=300'] = current(vio_range)\n",
    "\n",
    "KDE_all['random_MR_hRhY'] = random_MR_vio_hRhY"
   ]
  },
  {
   "cell_type": "code",
   "execution_count": null,
   "id": "b52f3c61-0d2f-4da6-a32c-e6e7218fd0b3",
   "metadata": {},
   "outputs": [],
   "source": [
    "MR_other['stem_len/10'] = MR_other['stem_len']//10\n",
    "\n",
    "MR_vio_other = dict()\n",
    "for group in range(1,10):\n",
    "    print('\\r' + str(group), end = '    ')\n",
    "    current = stats.gaussian_kde(MR_other.loc[MR_other['stem_len/10'] == group]['portion_STR_seqL'].dropna())\n",
    "    MR_vio_other[str(group*10) + '-' + str(((group+1)*10)-1)] = current(vio_range)\n",
    "\n",
    "current = stats.gaussian_kde(MR_other.loc[(MR_other['stem_len/10'] >= 10) & (MR_other['stem_len/10'] < 15)]['portion_STR_seqL'].dropna())\n",
    "MR_vio_other['100-149'] = current(vio_range)\n",
    "current = stats.gaussian_kde(MR_other.loc[(MR_other['stem_len/10'] >= 15) & (MR_other['stem_len/10'] < 20)]['portion_STR_seqL'].dropna())\n",
    "MR_vio_other['150-199'] = current(vio_range)\n",
    "current = stats.gaussian_kde(MR_other.loc[(MR_other['stem_len/10'] >= 20)]['portion_STR_seqL'].dropna())\n",
    "MR_vio_other['>=200'] = current(vio_range)\n",
    "\n",
    "KDE_all['MR_other'] = MR_vio_other"
   ]
  },
  {
   "cell_type": "code",
   "execution_count": null,
   "id": "cd60afd5-b369-4622-bab2-34fbc6d348fc",
   "metadata": {},
   "outputs": [],
   "source": [
    "random_matched_MR_other['len/10'] = random_matched_MR_other['length']//10\n",
    "\n",
    "random_MR_vio_other = dict()\n",
    "for group in range(1,11):\n",
    "    print('\\r' + str(group), end = '    ')\n",
    "    current = stats.gaussian_kde(random_matched_MR_other.loc[random_matched_MR_other['len/10'] == group]['portion_STR_seq'].dropna())\n",
    "    random_MR_vio_other[str(group*10) + '-' + str(((group+1)*10)-1)] = current(vio_range)\n",
    "\n",
    "current = stats.gaussian_kde(random_matched_MR_other.loc[(random_matched_MR_other['len/10'] >= 10) & (random_matched_MR_other['len/10'] < 15)]['portion_STR_seq'].dropna())\n",
    "random_MR_vio_other['100-149'] = current(vio_range)\n",
    "current = stats.gaussian_kde(random_matched_MR_other.loc[(random_matched_MR_other['len/10'] >= 15) & (random_matched_MR_other['len/10'] < 20)]['portion_STR_seq'].dropna())\n",
    "random_MR_vio_other['150-199'] = current(vio_range)\n",
    "current = stats.gaussian_kde(random_matched_MR_other.loc[(random_matched_MR_other['len/10'] >= 20)]['portion_STR_seq'].dropna())\n",
    "random_MR_vio_other['>=200'] = current(vio_range)\n",
    "\n",
    "KDE_all['random_MR_other'] = random_MR_vio_other"
   ]
  },
  {
   "cell_type": "markdown",
   "id": "16add6c2-7de7-4f17-a461-146553ee705a",
   "metadata": {},
   "source": [
    "# Inverted repeats"
   ]
  },
  {
   "cell_type": "markdown",
   "id": "d2cbd8a4-db0f-40d9-85af-a137f31b5786",
   "metadata": {},
   "source": [
    "### Load IR database"
   ]
  },
  {
   "cell_type": "code",
   "execution_count": null,
   "id": "9ea05cd3-58e2-41f9-a49f-e28b4aa51713",
   "metadata": {},
   "outputs": [],
   "source": [
    "IR_all = pd.read_csv('repeat_db/IR.csv.gzip', low_memory=False, compression = 'gzip')\n",
    "\n",
    "IR_all['chrom'] = [str(chrom) if chrom in ['X', 'Y'] else int(chrom) for chrom in IR_all['chrom']]\n",
    "IR_all['stem_len'] = IR_all['L_end'] - IR_all['L_start']\n",
    "IR_all['spacer'] = IR_all['R_start'] - IR_all['L_end']\n",
    "IR_all['seq_L'] = [CHM13_genome[chrom][start: end+1] for chrom, start, end in zip(IR_all['chrom'], IR_all['L_start'], IR_all['L_end'])]"
   ]
  },
  {
   "cell_type": "code",
   "execution_count": null,
   "id": "adbffcfe-34c0-4446-b0e0-1af3c1971f28",
   "metadata": {},
   "outputs": [],
   "source": [
    "# For fully-overlapping entries, keep the one with the longest stem length\n",
    "# Note: step has already been done for database in Supplemental Files\n",
    "IR_all = IR_all.sort_values(by = ['chrom', 'L_start', 'stem_len']).drop_duplicates(subset = ['chrom', 'L_start'], keep = 'last')"
   ]
  },
  {
   "cell_type": "markdown",
   "id": "3019643f-18a8-4be8-922d-8d92abe85399",
   "metadata": {},
   "source": [
    "## Find STRs within IRs"
   ]
  },
  {
   "cell_type": "code",
   "execution_count": null,
   "id": "c6c1c762-53b1-4a30-a484-20d6c3c3ba79",
   "metadata": {},
   "outputs": [],
   "source": [
    "for n in range(1,10):\n",
    "    print('\\r' + str(n), end = '  ')\n",
    "    IR_all['STR_'+str(n)] = [list(set(str_re[n].findall(seq))) for seq in IR_all['seq_L']]\n",
    "IR_all['STR_1-9_seqL'] = IR_all['STR_1'] + IR_all['STR_2'] + IR_all['STR_3'] + IR_all['STR_4'] + IR_all['STR_5'] + IR_all['STR_6'] + IR_all['STR_7'] + IR_all['STR_8'] + IR_all['STR_9']\n",
    "IR_all['STR_1-9_seqL'] = IR_all['STR_1-9_seqL'].apply(lambda x: list(set(x)))\n",
    "del IR_all['STR_1']; del IR_all['STR_2']; del IR_all['STR_3']; del IR_all['STR_4']; del IR_all['STR_5']; del IR_all['STR_6']; del IR_all['STR_7']; del IR_all['STR_8']; del IR_all['STR_9']\n",
    "\n",
    "IR_all['total_nt_STRs_max_seqL'] = [max([len(re.findall(STR, seq)) * len(STR) for STR in STRs], default = 0) for seq, STRs in zip(IR_all['seq_L'], IR_all['STR_1-9_seqL'])]\n",
    "IR_all['portion_STR_seqL'] = IR_all['total_nt_STRs_max_seqL'] / IR_all['stem_len']\n",
    "IR_all['diff_STR_seqL'] = IR_all['stem_len'] - IR_all['total_nt_STRs_max_seqL']\n",
    "\n",
    "IR_portion = pd.concat([IR_all.groupby(['stem_len'])['portion_STR_seqL'].mean().sort_index(), IR_all.groupby(['stem_len'])['portion_STR_seqL'].quantile(0.975).sort_index(), IR_all.groupby(['stem_len'])['portion_STR_seqL'].quantile(0.025).sort_index()], axis=1)\n",
    "IR_portion.columns = ['mean', 'high', 'low']\n",
    "portion_STR['IR_all'] = IR_portion"
   ]
  },
  {
   "cell_type": "markdown",
   "id": "33294d19-0d86-4433-ad63-c0b53cd79011",
   "metadata": {},
   "source": [
    "### Random matched coordinates"
   ]
  },
  {
   "cell_type": "code",
   "execution_count": null,
   "id": "b3a33885-e0aa-4c38-b5dc-56acc443d3c6",
   "metadata": {},
   "outputs": [],
   "source": [
    "random_matched_IR_all = generate_random_matched_by_length(IR_all[['chrom', 'L_start', 'L_end']], start_col = 'L_start', end_col = 'L_end', length_col = 'stem_len')"
   ]
  },
  {
   "cell_type": "code",
   "execution_count": null,
   "id": "3374e5d2-16d7-4b42-88c0-c7ca365c1bfe",
   "metadata": {},
   "outputs": [],
   "source": [
    "for n in range(1,10):\n",
    "    print('\\r' + str(n), end = '  ')\n",
    "    random_matched_IR_all['STR_'+str(n)] = [list(set(str_re[n].findall(seq))) for seq in random_matched_IR_all['Sequence']]\n",
    "random_matched_IR_all['STR_1-9_seq'] = random_matched_IR_all['STR_1'] + random_matched_IR_all['STR_2'] + random_matched_IR_all['STR_3'] + random_matched_IR_all['STR_4'] + random_matched_IR_all['STR_5'] + random_matched_IR_all['STR_6'] + random_matched_IR_all['STR_7'] + random_matched_IR_all['STR_8'] + random_matched_IR_all['STR_9']\n",
    "random_matched_IR_all['STR_1-9_seq'] = random_matched_IR_all['STR_1-9_seq'].apply(lambda x: list(set(x)))\n",
    "del random_matched_IR_all['STR_1']; del random_matched_IR_all['STR_2']; del random_matched_IR_all['STR_3']; del random_matched_IR_all['STR_4']; del random_matched_IR_all['STR_5']; del random_matched_IR_all['STR_6']; del random_matched_IR_all['STR_7']; del random_matched_IR_all['STR_8']; del random_matched_IR_all['STR_9']\n",
    "\n",
    "random_matched_IR_all['total_nt_STRs_max_seq'] = [max([len(re.findall(STR, seq)) * len(STR) for STR in STRs], default = 0) for seq, STRs in zip(random_matched_IR_all['Sequence'], random_matched_IR_all['STR_1-9_seq'])]\n",
    "\n",
    "random_matched_IR_all['portion_STR_seq'] = random_matched_IR_all['total_nt_STRs_max_seq'] / random_matched_IR_all['stem_len']\n",
    "random_matched_IR_all['diff_STR_seq'] = random_matched_IR_all['stem_len'] - random_matched_IR_all['total_nt_STRs_max_seq']\n",
    "\n",
    "random_matched_IR_portion = pd.concat([random_matched_IR_all.groupby(['stem_len'])['portion_STR_seq'].mean().sort_index(), random_matched_IR_all.groupby(['stem_len'])['portion_STR_seq'].quantile(0.975).sort_index(), random_matched_IR_all.groupby(['stem_len'])['portion_STR_seq'].quantile(0.025).sort_index()], axis=1)\n",
    "random_matched_IR_portion.columns = ['mean', 'high', 'low']\n",
    "portion_STR['random_IR_all'] = random_matched_IR_portion"
   ]
  },
  {
   "cell_type": "markdown",
   "id": "a190a147-7354-4808-894b-f482829f827b",
   "metadata": {},
   "source": [
    "### STR probability density"
   ]
  },
  {
   "cell_type": "code",
   "execution_count": null,
   "id": "7aa84fe7-977f-41c2-a1de-8add37aabc26",
   "metadata": {},
   "outputs": [],
   "source": [
    "IR_all['stem_len/10'] = IR_all['stem_len']//10\n",
    "\n",
    "IR_vio = dict()\n",
    "for group in range(1,10):\n",
    "    print('\\r' + str(group), end = '    ')\n",
    "    current = stats.gaussian_kde(IR_all.loc[IR_all['stem_len/10'] == group]['portion_STR_seqL'].dropna())\n",
    "    IR_vio[str(group*10) + '-' + str(((group+1)*10)-1)] = current(vio_range)\n",
    "\n",
    "current = stats.gaussian_kde(IR_all.loc[(IR_all['stem_len/10'] >= 10) & (IR_all['stem_len/10'] < 15)]['portion_STR_seqL'].dropna())\n",
    "IR_vio['100-149'] = current(vio_range)\n",
    "current = stats.gaussian_kde(IR_all.loc[(IR_all['stem_len/10'] >= 15)]['portion_STR_seqL'].dropna())\n",
    "IR_vio['>=150'] = current(vio_range)\n",
    "\n",
    "KDE_all['IR'] = IR_vio"
   ]
  },
  {
   "cell_type": "code",
   "execution_count": null,
   "id": "ad538d0f-4206-4cb4-9168-4cf7aa35319b",
   "metadata": {},
   "outputs": [],
   "source": [
    "random_matched_IR_all['len/10'] = random_matched_IR_all['stem_len']//10\n",
    "\n",
    "random_IR_vio = dict()\n",
    "for group in range(1,10):\n",
    "    print('\\r' + str(group), end = '    ')\n",
    "    current = stats.gaussian_kde(random_matched_IR_all.loc[random_matched_IR_all['len/10'] == group]['portion_STR_seq'].dropna())\n",
    "    random_IR_vio[str(group*10) + '-' + str(((group+1)*10)-1)] = current(vio_range)\n",
    "\n",
    "current = stats.gaussian_kde(random_matched_IR_all.loc[(random_matched_IR_all['len/10'] >= 10) & (random_matched_IR_all['len/10'] < 15)]['portion_STR_seq'].dropna())\n",
    "random_IR_vio['100-149'] = current(vio_range)\n",
    "current = stats.gaussian_kde(random_matched_IR_all.loc[(random_matched_IR_all['len/10'] >= 15)]['portion_STR_seq'].dropna())\n",
    "random_IR_vio['>=150'] = current(vio_range)\n",
    "\n",
    "KDE_all['random_IR'] = random_IR_vio"
   ]
  },
  {
   "cell_type": "markdown",
   "id": "07e8d452-e9e9-4ad5-b97b-0f00de194dbf",
   "metadata": {},
   "source": [
    "# Direct repeats"
   ]
  },
  {
   "cell_type": "markdown",
   "id": "3024c34b-02a1-4a28-8eb1-7e49d8952106",
   "metadata": {},
   "source": [
    "### Load DR database"
   ]
  },
  {
   "cell_type": "code",
   "execution_count": null,
   "id": "a4e37d53-2533-4a47-961e-aebd809e134f",
   "metadata": {},
   "outputs": [],
   "source": [
    "DR_all = pd.read_csv('repeat_db/IR.csv.gzip', low_memory=False, compression = 'gzip')\n",
    "\n",
    "DR_all['chrom'] = [str(chrom) if chrom in ['X', 'Y'] else int(chrom) for chrom in DR_all['chrom']]\n",
    "DR_all['stem_len'] = DR_all['L_end'] - DR_all['L_start']\n",
    "DR_all['spacer'] = DR_all['R_start'] - DR_all['L_end']\n",
    "DR_all['seq_L'] = [CHM13_genome[chrom][start: end+1] for chrom, start, end in zip(DR_all['chrom'], DR_all['L_start'], DR_all['L_end'])]"
   ]
  },
  {
   "cell_type": "code",
   "execution_count": null,
   "id": "32566bc3-2299-41cc-8713-9bd34871a913",
   "metadata": {},
   "outputs": [],
   "source": [
    "# Remove entries with spacer length >100\n",
    "# For fully-overlapping entries, keep the one with the longest stem length\n",
    "# Note: step has already been done for database in Supplemental Files\n",
    "DR_all = DR_all.loc[DR_all['spacer'] <=100].sort_values(by = ['chrom', 'L_start', 'stem_len']).drop_duplicates(subset = ['chrom', 'L_start'], keep = 'last')"
   ]
  },
  {
   "cell_type": "markdown",
   "id": "6e70df0a-7e77-431c-917f-1454e0bc48e8",
   "metadata": {},
   "source": [
    "## Find STRs within DRs"
   ]
  },
  {
   "cell_type": "code",
   "execution_count": null,
   "id": "9a67bff6-a65c-42f1-b40e-c552d406b261",
   "metadata": {},
   "outputs": [],
   "source": [
    "for n in range(1,10):\n",
    "    print('\\r' + str(n), end = '  ')\n",
    "    DR_all['STR_'+str(n)] = [list(set(str_re[n].findall(seq))) for seq in DR_all['seq_L']]\n",
    "DR_all['STR_1-9_seqL'] = DR_all['STR_1'] + DR_all['STR_2'] + DR_all['STR_3'] + DR_all['STR_4'] + DR_all['STR_5'] + DR_all['STR_6'] + DR_all['STR_7'] + DR_all['STR_8'] + DR_all['STR_9']\n",
    "DR_all['STR_1-9_seqL'] = DR_all['STR_1-9_seqL'].apply(lambda x: list(set(x)))\n",
    "del DR_all['STR_1']; del DR_all['STR_2']; del DR_all['STR_3']; del DR_all['STR_4']; del DR_all['STR_5']; del DR_all['STR_6']; del DR_all['STR_7']; del DR_all['STR_8']; del DR_all['STR_9']\n",
    "DR_all['total_nt_STRs_max_seqL'] = [max([len(re.findall(STR, seq)) * len(STR) for STR in STRs], default = 0) for seq, STRs in zip(DR_all['seq_L'], DR_all['STR_1-9_seqL'])]\n",
    "DR_all['portion_STR_seqL'] = DR_all['total_nt_STRs_max_seqL'] / DR_all['stem_len']\n",
    "DR_all['diff_STR_seqL'] = DR_all['stem_len'] - DR_all['total_nt_STRs_max_seqL']\n",
    "\n",
    "DR_portion = pd.concat([DR_all.groupby(['stem_len'])['portion_STR_seqL'].mean(), DR_all.groupby(['stem_len'])['portion_STR_seqL'].quantile(0.975), DR_all.groupby(['stem_len'])['portion_STR_seqL'].quantile(0.025)], axis=1)\n",
    "DR_portion.columns = ['mean', 'high', 'low']\n",
    "portion_STR['DR_all'] = DR_portion"
   ]
  },
  {
   "cell_type": "markdown",
   "id": "9eb07c45-4e6e-4f7c-b1c0-c9201b701707",
   "metadata": {},
   "source": [
    "### Random matched coordinates"
   ]
  },
  {
   "cell_type": "code",
   "execution_count": null,
   "id": "456b2231-0588-4552-8cd8-74d8e0860368",
   "metadata": {},
   "outputs": [],
   "source": [
    "random_matched_DR_all = generate_random_matched_by_length(DR_all[['chrom', 'L_start', 'L_end']], start_col = 'L_start', end_col = 'L_end')"
   ]
  },
  {
   "cell_type": "code",
   "execution_count": null,
   "id": "fa223bc2-d386-426b-b798-4636fdac4764",
   "metadata": {},
   "outputs": [],
   "source": [
    "# find all repeating elements of unit length 1-9 in each MR stem\n",
    "for n in range(1,10):\n",
    "    print('\\r' + str(n), end = '  ')\n",
    "    random_matched_DR_all['STR_'+str(n)] = [list(set(str_re[n].findall(seq))) for seq in random_matched_DR_all['Sequence']]\n",
    "random_matched_DR_all['STR_1-9'] = random_matched_DR_all['STR_1'] + random_matched_DR_all['STR_2'] + random_matched_DR_all['STR_3'] + random_matched_DR_all['STR_4'] + random_matched_DR_all['STR_5'] + random_matched_DR_all['STR_6'] + random_matched_DR_all['STR_7'] + random_matched_DR_all['STR_8'] + random_matched_DR_all['STR_9']\n",
    "random_matched_DR_all['STR_1-9'] = random_matched_DR_all['STR_1-9'].apply(lambda x: list(set(x)))\n",
    "del random_matched_DR_all['STR_1']; del random_matched_DR_all['STR_2']; del random_matched_DR_all['STR_3']; del random_matched_DR_all['STR_4']; del random_matched_DR_all['STR_5']; del random_matched_DR_all['STR_6']; del random_matched_DR_all['STR_7']; del random_matched_DR_all['STR_8']; del random_matched_DR_all['STR_9']\n",
    "random_matched_DR_all['total_nt_STRs'] = [[len(re.findall(STR, seq)) * len(STR) for STR in STRs] for seq, STRs in zip(random_matched_DR_all['Sequence'], random_matched_DR_all['STR_1-9'])]\n",
    "random_matched_DR_all['total_nt_STRs_max'] = random_matched_DR_all['total_nt_STRs'].apply(lambda x: pd.Series(x).max())\n",
    "random_matched_DR_all['portion_STR'] = random_matched_DR_all['total_nt_STRs_max'] / random_matched_DR_all['length']\n",
    "\n",
    "random_matched_DR_portion = pd.concat([random_matched_DR_all.groupby(['length'])['portion_STR'].mean(), random_matched_DR_all.groupby(['length'])['portion_STR'].quantile(0.975), random_matched_DR_all.groupby(['length'])['portion_STR'].quantile(0.025)], axis=1)\n",
    "random_matched_DR_portion.columns = ['mean', 'high', 'low']\n",
    "portion_STR['random_DR_all'] = random_matched_DR_portion"
   ]
  },
  {
   "cell_type": "markdown",
   "id": "3d6ac388-7c47-49ca-8dcf-7b111b01749f",
   "metadata": {},
   "source": [
    "### STR probability density"
   ]
  },
  {
   "cell_type": "code",
   "execution_count": null,
   "id": "f835e7db-4b45-4c31-b1ef-22038158d117",
   "metadata": {},
   "outputs": [],
   "source": [
    "DR_all['stem_len/10'] = DR_all['stem_len']//10\n",
    "\n",
    "DR_vio = dict()\n",
    "for group in range(1,21):\n",
    "    print('\\r' + str(group), end = '    ')\n",
    "    current = stats.gaussian_kde(DR_all.loc[DR_all['stem_len/10'] == group]['portion_STR_seqL'].dropna())\n",
    "    DR_vio[group] = current(vio_range)\n",
    "\n",
    "DR_vio = dict()\n",
    "for group in range(1,10):\n",
    "    print('\\r' + str(group), end = '    ')\n",
    "    current = stats.gaussian_kde(DR_all.loc[DR_all['stem_len/10'] == group]['portion_STR_seqL'].dropna())\n",
    "    DR_vio[str(group*10) + '-' + str(((group+1)*10)-1)] = current(vio_range)\n",
    "\n",
    "current = stats.gaussian_kde(DR_all.loc[(DR_all['stem_len/10'] >= 10) & (DR_all['stem_len/10'] < 20)]['portion_STR_seqL'].dropna())\n",
    "DR_vio['100-199'] = current(vio_range)\n",
    "current = stats.gaussian_kde(DR_all.loc[(DR_all['stem_len/10'] >= 20) & (DR_all['stem_len/10'] < 30)]['portion_STR_seqL'].dropna())\n",
    "DR_vio['200-299'] = current(vio_range)\n",
    "current = stats.gaussian_kde(DR_all.loc[(DR_all['stem_len/10'] >= 30) & (DR_all['stem_len/10'] < 40)]['portion_STR_seqL'].dropna())\n",
    "DR_vio['300-399'] = current(vio_range)\n",
    "current = stats.gaussian_kde(DR_all.loc[(DR_all['stem_len/10'] >= 40) & (DR_all['stem_len/10'] < 50)]['portion_STR_seqL'].dropna())\n",
    "DR_vio['400-499'] = current(vio_range)\n",
    "current = stats.gaussian_kde(DR_all.loc[(DR_all['stem_len/10'] >= 50)]['portion_STR_seqL'].dropna())\n",
    "DR_vio['>=500'] = current(vio_range)\n",
    "\n",
    "KDE_all['DR'] = DR_vio"
   ]
  },
  {
   "cell_type": "code",
   "execution_count": null,
   "id": "0cbfa024-0105-49d3-b3ce-d5cf347f04fe",
   "metadata": {},
   "outputs": [],
   "source": [
    "random_matched_DR_all['len/10'] = random_matched_DR_all['length']//10\n",
    "\n",
    "random_DR_vio = dict()\n",
    "for group in range(1,10):\n",
    "    print('\\r' + str(group), end = '    ')\n",
    "    current = stats.gaussian_kde(random_matched_DR_all.loc[random_matched_DR_all['len/10'] == group]['portion_STR'].dropna())\n",
    "    random_DR_vio[str(group*10) + '-' + str(((group+1)*10)-1)] = current(vio_range)\n",
    "\n",
    "current = stats.gaussian_kde(random_matched_DR_all.loc[(random_matched_DR_all['len/10'] >= 10) & (random_matched_DR_all['len/10'] < 20)]['portion_STR'].dropna())\n",
    "random_DR_vio['100-199'] = current(vio_range)\n",
    "current = stats.gaussian_kde(random_matched_DR_all.loc[(random_matched_DR_all['len/10'] >= 20) & (random_matched_DR_all['len/10'] < 30)]['portion_STR'].dropna())\n",
    "random_DR_vio['200-299'] = current(vio_range)\n",
    "current = stats.gaussian_kde(random_matched_DR_all.loc[(random_matched_DR_all['len/10'] >= 30) & (random_matched_DR_all['len/10'] < 40)]['portion_STR'].dropna())\n",
    "random_DR_vio['300-399'] = current(vio_range)\n",
    "current = stats.gaussian_kde(random_matched_DR_all.loc[(random_matched_DR_all['len/10'] >= 40) & (random_matched_DR_all['len/10'] < 50)]['portion_STR'].dropna())\n",
    "random_DR_vio['400-499'] = current(vio_range)\n",
    "current = stats.gaussian_kde(random_matched_DR_all.loc[(random_matched_DR_all['len/10'] >= 50)]['portion_STR'].dropna())\n",
    "random_DR_vio['>=500'] = current(vio_range)\n",
    "\n",
    "KDE_all['random_DR'] = random_DR_vio"
   ]
  },
  {
   "cell_type": "markdown",
   "id": "eda527f0-1e42-40aa-8b21-1079395ee58a",
   "metadata": {},
   "source": [
    "# G4 DNA (GRCh38)"
   ]
  },
  {
   "cell_type": "markdown",
   "id": "b2ea2cbf-a188-4bec-ab5b-e9f9754a733d",
   "metadata": {},
   "source": [
    "### Load G4 database"
   ]
  },
  {
   "cell_type": "code",
   "execution_count": null,
   "id": "337105d7-d8e4-46f5-ab33-230b15eeecab",
   "metadata": {},
   "outputs": [],
   "source": [
    "G4seq_all = pd.read_csv('repeat_db/G4_GRCh38.csv.gzip', compression = 'gzip')"
   ]
  },
  {
   "cell_type": "code",
   "execution_count": null,
   "id": "9288cb20-e246-4029-96fc-eeb8a325b54e",
   "metadata": {},
   "outputs": [],
   "source": [
    "# For fully-overlapping entries, keep the one with the longest stem length\n",
    "# Note: step has already been done for database in Supplemental Files\n",
    "G4seq_all = G4seq_all.sort_values(by = ['chrom', 'start', 'length']).drop_duplicates(subset = ['chrom', 'start'], keep = 'last')"
   ]
  },
  {
   "cell_type": "markdown",
   "id": "66d4dabb-e8f1-4323-bcf6-184b4ca487cd",
   "metadata": {},
   "source": [
    "## Find STRs within G4s"
   ]
  },
  {
   "cell_type": "code",
   "execution_count": null,
   "id": "d458f040-5a59-494e-913f-d5ac8e4601cc",
   "metadata": {},
   "outputs": [],
   "source": [
    "# find all repeating elements of unit length 1-9 in each MR stem\n",
    "for n in range(1,10):\n",
    "    print('\\r' + str(n), end = '  ')\n",
    "    G4seq_all['STR_'+str(n)] = [list(set(str_re[n].findall(seq))) for seq in G4seq_all['Sequence']]\n",
    "G4seq_all['STR_1-9_seq'] = G4seq_all['STR_1'] + G4seq_all['STR_2'] + G4seq_all['STR_3'] + G4seq_all['STR_4'] + G4seq_all['STR_5'] + G4seq_all['STR_6'] + G4seq_all['STR_7'] + G4seq_all['STR_8'] + G4seq_all['STR_9']\n",
    "G4seq_all['STR_1-9_seq'] = G4seq_all['STR_1-9_seq'].apply(lambda x: list(set(x)))\n",
    "del G4seq_all['STR_1']; del G4seq_all['STR_2']; del G4seq_all['STR_3']; del G4seq_all['STR_4']; del G4seq_all['STR_5']; del G4seq_all['STR_6']; del G4seq_all['STR_7']; del G4seq_all['STR_8']; del G4seq_all['STR_9']\n",
    "G4seq_all['total_nt_STRs_max_seq'] = [max([len(re.findall(STR, seq)) * len(STR) for STR in STRs], default = 0) for seq, STRs in zip(G4seq_all['Sequence'], G4seq_all['STR_1-9_seq'])]\n",
    "G4seq_all['portion_STR_seq'] = G4seq_all['total_nt_STRs_max_seq'] / G4seq_all['length']\n",
    "G4seq_all['diff_STR_seq'] = G4seq_all['length'] - G4seq_all['total_nt_STRs_max_seq']\n",
    "\n",
    "G4seq_portion = pd.concat([G4seq_all.groupby(['length'])['portion_STR_seq'].mean(), G4seq_all.groupby(['length'])['portion_STR_seq'].quantile(0.975), G4seq_all.groupby(['length'])['portion_STR_seq'].quantile(0.025)], axis=1)\n",
    "G4seq_portion.columns = ['mean', 'high', 'low']\n",
    "portion_STR['G4'] = G4seq_portion"
   ]
  },
  {
   "cell_type": "markdown",
   "id": "77deafb1-ad51-4a8f-b597-0751f1ff8f47",
   "metadata": {},
   "source": [
    "### Random matched coordinates"
   ]
  },
  {
   "cell_type": "code",
   "execution_count": null,
   "id": "96df7692-ad23-4568-a2ef-1c586c591452",
   "metadata": {},
   "outputs": [],
   "source": [
    "random_matched_G4seq_all = generate_random_matched_by_length(G4seq_all[['chrom', 'start', 'end']], start_col = 'start', end_col = 'end')"
   ]
  },
  {
   "cell_type": "code",
   "execution_count": null,
   "id": "37dec68b-2ac8-47a9-816b-151a3e7175f7",
   "metadata": {},
   "outputs": [],
   "source": [
    "# find all repeating elements of unit length 1-9 in each MR stem\n",
    "for n in range(1,10):\n",
    "    print('\\r' + str(n), end = '  ')\n",
    "    random_matched_G4seq_all['STR_'+str(n)] = [list(set(str_re[n].findall(seq))) for seq in random_matched_G4seq_all['Sequence']]\n",
    "random_matched_G4seq_all['STR_1-9'] = random_matched_G4seq_all['STR_1'] + random_matched_G4seq_all['STR_2'] + random_matched_G4seq_all['STR_3'] + random_matched_G4seq_all['STR_4'] + random_matched_G4seq_all['STR_5'] + random_matched_G4seq_all['STR_6'] + random_matched_G4seq_all['STR_7'] + random_matched_G4seq_all['STR_8'] + random_matched_G4seq_all['STR_9']\n",
    "random_matched_G4seq_all['STR_1-9'] = random_matched_G4seq_all['STR_1-9'].apply(lambda x: list(set(x)))\n",
    "del random_matched_G4seq_all['STR_1']; del random_matched_G4seq_all['STR_2']; del random_matched_G4seq_all['STR_3']; del random_matched_G4seq_all['STR_4']; del random_matched_G4seq_all['STR_5']; del random_matched_G4seq_all['STR_6']; del random_matched_G4seq_all['STR_7']; del random_matched_G4seq_all['STR_8']; del random_matched_G4seq_all['STR_9']\n",
    "random_matched_G4seq_all['total_nt_STRs_max_seq'] = [max([len(re.findall(STR, seq)) * len(STR) for STR in STRs], default = 0) for seq, STRs in zip(random_matched_G4seq_all['Sequence'], random_matched_G4seq_all['STR_1-9'])]\n",
    "random_matched_G4seq_all['portion_STR'] = random_matched_G4seq_all['total_nt_STRs_max_seq'] / random_matched_G4seq_all['length']\n",
    "\n",
    "random_matched_G4seq_portion = pd.concat([random_matched_G4seq_all.groupby(['length'])['portion_STR'].mean(), random_matched_G4seq_all.groupby(['length'])['portion_STR'].quantile(0.975), random_matched_G4seq_all.groupby(['length'])['portion_STR'].quantile(0.025)], axis=1)\n",
    "random_matched_G4seq_portion.columns = ['mean', 'high', 'low']\n",
    "portion_STR['random_G4'] = random_matched_G4seq_portion"
   ]
  },
  {
   "cell_type": "markdown",
   "id": "3907430e-4ea2-4503-94a1-1b582ba07833",
   "metadata": {},
   "source": [
    "### STR probability density"
   ]
  },
  {
   "cell_type": "code",
   "execution_count": null,
   "id": "7549de3d-9fa9-4223-9772-10fadfafe0be",
   "metadata": {},
   "outputs": [],
   "source": [
    "G4seq_all['len/10'] = G4seq_all['length']//10\n",
    "\n",
    "G4_vio = dict()\n",
    "for group in range(1,10):\n",
    "    print('\\r' + str(group), end = '    ')\n",
    "    current = stats.gaussian_kde(G4seq_all.loc[G4seq_all['len/10'] == group]['portion_STR_seq'].dropna())\n",
    "    G4_vio[str(group*10) + '-' + str(((group+1)*10)-1)] = current(vio_range)\n",
    "\n",
    "current = stats.gaussian_kde(G4seq_all.loc[(G4seq_all['len/10'] >= 10) & (G4seq_all['len/10'] < 20)]['portion_STR_seq'].dropna())\n",
    "G4_vio['100-199'] = current(vio_range)\n",
    "current = stats.gaussian_kde(G4seq_all.loc[(G4seq_all['len/10'] >= 20) & (G4seq_all['len/10'] < 30)]['portion_STR_seq'].dropna())\n",
    "G4_vio['200-299'] = current(vio_range)\n",
    "current = stats.gaussian_kde(G4seq_all.loc[(G4seq_all['len/10'] >= 30) & (G4seq_all['len/10'] < 40)]['portion_STR_seq'].dropna())\n",
    "G4_vio['300-399'] = current(vio_range)\n",
    "current = stats.gaussian_kde(G4seq_all.loc[(G4seq_all['len/10'] >= 40) & (G4seq_all['len/10'] < 50)]['portion_STR_seq'].dropna())\n",
    "G4_vio['400-499'] = current(vio_range)\n",
    "current = stats.gaussian_kde(G4seq_all.loc[(G4seq_all['len/10'] >= 50)]['portion_STR_seq'].dropna())\n",
    "G4_vio['>=500'] = current(vio_range)\n",
    "\n",
    "KDE_all['G4'] = G4_vio"
   ]
  },
  {
   "cell_type": "code",
   "execution_count": null,
   "id": "090c704b-e27f-4b18-9efc-7fc75792814f",
   "metadata": {},
   "outputs": [],
   "source": [
    "random_matched_G4seq_all['len/10'] = random_matched_G4seq_all['length']//10\n",
    "\n",
    "random_matched_G4_vio = dict()\n",
    "for group in range(1,10):\n",
    "    print('\\r' + str(group), end = '    ')\n",
    "    current = stats.gaussian_kde(random_matched_G4seq_all.loc[random_matched_G4seq_all['len/10'] == group]['portion_STR'].dropna())\n",
    "    random_matched_G4_vio[str(group*10) + '-' + str(((group+1)*10)-1)] = current(vio_range)\n",
    "\n",
    "current = stats.gaussian_kde(random_matched_G4seq_all.loc[(random_matched_G4seq_all['len/10'] >= 10) & (random_matched_G4seq_all['len/10'] < 20)]['portion_STR'].dropna())\n",
    "random_matched_G4_vio['100-199'] = current(vio_range)\n",
    "current = stats.gaussian_kde(random_matched_G4seq_all.loc[(random_matched_G4seq_all['len/10'] >= 20) & (random_matched_G4seq_all['len/10'] < 30)]['portion_STR'].dropna())\n",
    "random_matched_G4_vio['200-299'] = current(vio_range)\n",
    "current = stats.gaussian_kde(random_matched_G4seq_all.loc[(random_matched_G4seq_all['len/10'] >= 30) & (random_matched_G4seq_all['len/10'] < 40)]['portion_STR'].dropna())\n",
    "random_matched_G4_vio['300-399'] = current(vio_range)\n",
    "current = stats.gaussian_kde(random_matched_G4seq_all.loc[(random_matched_G4seq_all['len/10'] >= 40) & (random_matched_G4seq_all['len/10'] < 50)]['portion_STR'].dropna())\n",
    "random_matched_G4_vio['400-499'] = current(vio_range)\n",
    "current = stats.gaussian_kde(random_matched_G4seq_all.loc[(random_matched_G4seq_all['len/10'] >= 50)]['portion_STR'].dropna())\n",
    "random_matched_G4_vio['>=500'] = current(vio_range)\n",
    "\n",
    "KDE_all['random_G4'] = random_matched_G4_vio"
   ]
  },
  {
   "cell_type": "markdown",
   "id": "7ccf9250-5231-49f0-b39a-c9ec34c23092",
   "metadata": {
    "jp-MarkdownHeadingCollapsed": true
   },
   "source": [
    "# Save/load portion data"
   ]
  },
  {
   "cell_type": "code",
   "execution_count": null,
   "id": "ba590b0b-ecd5-4779-a75d-76b01fea6dba",
   "metadata": {},
   "outputs": [],
   "source": [
    "portion_STR.keys()"
   ]
  },
  {
   "cell_type": "code",
   "execution_count": null,
   "id": "3d32f003-1440-459f-9eb3-7cd7286ad26c",
   "metadata": {},
   "outputs": [],
   "source": [
    "# Save\n",
    "with open('../../paper_code_container/custom_db/portion_STRs_pub.pickle', 'wb') as handle:\n",
    "    pickle.dump(portion_STR, handle, protocol=pickle.HIGHEST_PROTOCOL)"
   ]
  },
  {
   "cell_type": "code",
   "execution_count": null,
   "id": "d1927baa-2031-4748-84d5-33c23ef981aa",
   "metadata": {},
   "outputs": [],
   "source": [
    "# Save\n",
    "with open('../../paper_code_container/custom_db/KDE_STRs_pub.pickle', 'wb') as handle:\n",
    "    pickle.dump(KDE_all, handle, protocol=pickle.HIGHEST_PROTOCOL)"
   ]
  },
  {
   "cell_type": "code",
   "execution_count": null,
   "id": "e3a24415-35ba-4b06-a018-bab5b8658701",
   "metadata": {},
   "outputs": [],
   "source": [
    "# Load\n",
    "with open('../../paper_code_container/custom_db/portion_STRs_pub.pickle', 'rb') as handle:\n",
    "    portion_STR = pickle.load(handle)"
   ]
  },
  {
   "cell_type": "code",
   "execution_count": null,
   "id": "68d5655b-39cf-49ab-baca-c32202861ae9",
   "metadata": {},
   "outputs": [],
   "source": [
    "# Load\n",
    "with open('../../paper_code_container/custom_db/KDE_STRs_pub.pickle', 'rb') as handle:\n",
    "    KDE_all = pickle.load(handle)"
   ]
  },
  {
   "cell_type": "markdown",
   "id": "28ce83d6-8099-499c-8cec-e499c7271cd0",
   "metadata": {},
   "source": [
    "# Plots of length vs. STR portion"
   ]
  },
  {
   "cell_type": "code",
   "execution_count": null,
   "id": "8addc344-7f51-448a-be60-3572c7ba67a4",
   "metadata": {},
   "outputs": [],
   "source": [
    "def make_plot_length_portion(cat_name, random_name, legend_text, show = True, legendpos = 0.75, xrange = [10, 405]):\n",
    "    fig_STR = go.Figure()\n",
    "    fig_STR.add_trace(go.Scatter(x = portion_STR[cat_name].index, y = portion_STR[cat_name]['mean'], line = dict(color = plotly.colors.DEFAULT_PLOTLY_COLORS[0], width = 3), name = legend_text, legendgroup = legend_text))\n",
    "    fig_STR.add_trace(go.Scatter(x = portion_STR[cat_name].index, y = portion_STR[cat_name]['high'], line = dict(color = 'rgba(0,0,0,0)'), legendgroup = legend_text, showlegend = False, name = 'quantile 95%'))\n",
    "    fig_STR.add_trace(go.Scatter(x = portion_STR[cat_name].index, y = portion_STR[cat_name]['low'], fill='tonexty', fillcolor = 'rgba(31, 119, 180,0.25)', line = dict(color = 'rgba(0,0,0,0)'), legendgroup = legend_text, showlegend = False, name = 'quantile 5%'))\n",
    "    \n",
    "    fig_STR.add_trace(go.Scatter(x = portion_STR[random_name].index, y = portion_STR[random_name]['mean'], line = dict(color = plotly.colors.DEFAULT_PLOTLY_COLORS[1], width = 3),  connectgaps = True, name = 'random coordinates', legendgroup = 'random coordinates'))\n",
    "    fig_STR.add_trace(go.Scatter(x = portion_STR[random_name].index, y = portion_STR[random_name]['high'], line = dict(color = 'rgba(0,0,0,0)'), connectgaps = True, legendgroup = 'random coordinates', showlegend = False, name = 'quantile 95%'))\n",
    "    fig_STR.add_trace(go.Scatter(x = portion_STR[random_name].index, y = portion_STR[random_name]['low'], fill='tonexty', fillcolor = 'rgba(255,127,14,0.25)', line = dict(color = 'rgba(0,0,0,0)'), connectgaps = True, legendgroup = 'random coordinates', showlegend = False, name = 'quantile 5%'))\n",
    "    \n",
    "    fig_STR.update_xaxes(title = 'mirror repeat stem length (nt)', range = xrange)\n",
    "    fig_STR.update_yaxes(range = [0.2, 1.05], title = 'STR portion of stem length')\n",
    "    fig_STR.update_layout(font=dict(family = 'Arial', size = 14), legend = dict(yanchor=\"top\", y=legendpos, xanchor=\"right\", x=0.99), height = 300, width = 600, margin={'t':20,'l':55,'b':35,'r':10})\n",
    "    if show == True:\n",
    "        fig_STR.show()\n",
    "    return fig_STR"
   ]
  },
  {
   "cell_type": "markdown",
   "id": "48d4b923-ab57-443c-8d5c-ca90b29bf2c7",
   "metadata": {},
   "source": [
    "### MRs"
   ]
  },
  {
   "cell_type": "code",
   "execution_count": null,
   "id": "97870eba-8931-4c49-9473-431b8097773a",
   "metadata": {},
   "outputs": [],
   "source": [
    "fig_STR_MR = make_plot_length_portion('MR', 'random_MR', 'mirror repeats')"
   ]
  },
  {
   "cell_type": "code",
   "execution_count": null,
   "id": "496ead67-7512-4308-893e-3eb31586f870",
   "metadata": {},
   "outputs": [],
   "source": [
    "fig_STR_MR.write_image('../../papers/this lab/mirror_repeats/plots/MR_portion_bylength.pdf')"
   ]
  },
  {
   "cell_type": "code",
   "execution_count": null,
   "id": "153edb8d-789a-4226-914e-aac3c6e8bfdc",
   "metadata": {},
   "outputs": [],
   "source": [
    "fig_STR_MR_hRhY = make_plot_length_portion('MR_hRhY', 'random_MR_hRhY', 'hR/hY mirror repeats')"
   ]
  },
  {
   "cell_type": "code",
   "execution_count": null,
   "id": "55272670-df63-48ba-8395-6fa57e543487",
   "metadata": {},
   "outputs": [],
   "source": [
    "fig_STR_MR_hRhY.write_image('../../papers/this lab/mirror_repeats/plots/MR_portion_bylength_hRhY.pdf')"
   ]
  },
  {
   "cell_type": "code",
   "execution_count": null,
   "id": "cffa541d-4486-4af0-972b-80b96e31afb1",
   "metadata": {},
   "outputs": [],
   "source": [
    "fig_STR_MR_other = make_plot_length_portion('MR_other', 'random_MR_other', 'other mirror repeats', legendpos= 0.65, xrange = [10,305])"
   ]
  },
  {
   "cell_type": "code",
   "execution_count": null,
   "id": "cd6097d7-0cdd-43bb-8540-358bd5a90f3a",
   "metadata": {},
   "outputs": [],
   "source": [
    "fig_STR_MR_other.write_image('../../papers/this lab/mirror_repeats/plots/MR_portion_bylength_other.pdf')"
   ]
  },
  {
   "cell_type": "markdown",
   "id": "847d1a1f-b200-43d6-a0eb-7553a46ce855",
   "metadata": {},
   "source": [
    "### IRs"
   ]
  },
  {
   "cell_type": "code",
   "execution_count": null,
   "id": "29688de3-1703-4548-896a-15aed1cb87c1",
   "metadata": {},
   "outputs": [],
   "source": [
    "fig_STR_IR = make_plot_length_portion('IR_all', 'random_IR_all', 'inverted repeats', legendpos= 0.79, xrange = [10,335])"
   ]
  },
  {
   "cell_type": "code",
   "execution_count": null,
   "id": "d4a43cbf-f1c4-4085-aa54-9a89adfa6e74",
   "metadata": {},
   "outputs": [],
   "source": [
    "fig_STR_IR.write_image('../../papers/this lab/mirror_repeats/plots/IR_portion_bylength.pdf')"
   ]
  },
  {
   "cell_type": "markdown",
   "id": "732e2ab1-8702-4773-9e0a-e43785e74c78",
   "metadata": {},
   "source": [
    "### DRs"
   ]
  },
  {
   "cell_type": "code",
   "execution_count": null,
   "id": "486df103-a813-489b-8e5a-2c3fd311f59f",
   "metadata": {},
   "outputs": [],
   "source": [
    "fig_STR_DR = make_plot_length_portion('DR_all', 'random_DR_all', 'direct repeats', legendpos= 0.95, xrange = [10,975])"
   ]
  },
  {
   "cell_type": "code",
   "execution_count": null,
   "id": "9da1396a-7915-434e-8a20-126151c44bdb",
   "metadata": {},
   "outputs": [],
   "source": [
    "fig_STR_DR.write_image('../../papers/this lab/mirror_repeats/plots/DR_portion_bylength.pdf')"
   ]
  },
  {
   "cell_type": "markdown",
   "id": "a94c1962-712c-4404-ab61-27412c2a8a5f",
   "metadata": {},
   "source": [
    "### G4s"
   ]
  },
  {
   "cell_type": "code",
   "execution_count": null,
   "id": "9f51aa48-7100-4f3b-b76a-1dce4ed6c71a",
   "metadata": {},
   "outputs": [],
   "source": [
    "fig_STR_G4 = make_plot_length_portion('G4', 'random_G4', 'G4 motifs', legendpos= 0.95, xrange = [10,1000])"
   ]
  },
  {
   "cell_type": "code",
   "execution_count": null,
   "id": "e86bfd1a-781d-4dce-805e-b19a976f599b",
   "metadata": {},
   "outputs": [],
   "source": [
    "fig_STR_G4.write_image('../../papers/this lab/mirror_repeats/plots/G4_portion_bylength.pdf')"
   ]
  },
  {
   "cell_type": "markdown",
   "id": "f32b1ac9-16f0-431e-93d2-22af503754ae",
   "metadata": {},
   "source": [
    "# Plots of STR probability density"
   ]
  },
  {
   "cell_type": "code",
   "execution_count": null,
   "id": "2b9fee04-2247-4e48-b5a9-86114afb59d9",
   "metadata": {},
   "outputs": [],
   "source": [
    "def make_prob_density_plot(cat_name, random_name, title_text, show = True):\n",
    "    fig = make_subplots(rows = 1, cols = 2, column_titles = [title_text, 'random coordinates'], x_title = 'probability density', shared_yaxes = True)\n",
    "    colorscale = plotly.colors.sample_colorscale('Turbo', len(KDE_all[cat_name]))\n",
    "    colornum = 0\n",
    "    for group in KDE_all[cat_name]:\n",
    "        fig.add_trace(go.Scatter(y = vio_range, x = KDE_all[cat_name][group] / KDE_all[cat_name][group].sum(), line = dict(color = colorscale[colornum]), opacity = 0.3 + (0.03*colornum), legendgroup = group, name = group), row = 1, col = 1)\n",
    "        fig.add_trace(go.Scatter(y = vio_range, x = KDE_all[random_name][group] / KDE_all[random_name][group].sum(), line = dict(color = colorscale[colornum]), opacity = 0.3 + (0.03*colornum), legendgroup = group, showlegend = False, name = group), row = 1, col = 2)\n",
    "        colornum +=1\n",
    "    fig.update_xaxes(gridcolor = 'rgba(0,0,0,0.15)', gridwidth = 1)\n",
    "    fig.update_yaxes(range = [0.1675, 1.05], gridcolor = 'rgba(0,0,0,0.15)', gridwidth = 1)\n",
    "    fig.update_yaxes(title = 'STR portion of motif length', row = 1, col = 1)\n",
    "    fig.update_layout(legend_title = 'length (nt)', font=dict(family = 'Arial', size = 14), height = 600, width = 800, margin={'t':40,'l':50,'b':50,'r':10})     \n",
    "    if show == True:\n",
    "        fig.show()\n",
    "    return fig"
   ]
  },
  {
   "cell_type": "markdown",
   "id": "18ed82b0-6c54-44d7-84ff-c793c39a7b3e",
   "metadata": {},
   "source": [
    "### MRs"
   ]
  },
  {
   "cell_type": "code",
   "execution_count": null,
   "id": "34820be5-4523-48b5-88b4-23884f880199",
   "metadata": {},
   "outputs": [],
   "source": [
    "fig_prob_MR = make_prob_density_plot('MR', 'random_MR', 'mirror repeats')"
   ]
  },
  {
   "cell_type": "code",
   "execution_count": null,
   "id": "9c9399c2-2a8c-4277-a97d-21e7c8dc49c5",
   "metadata": {},
   "outputs": [],
   "source": [
    "fig_prob_MR.write_image('../../papers/this lab/mirror_repeats/plots/KDE_MR.pdf')"
   ]
  },
  {
   "cell_type": "code",
   "execution_count": null,
   "id": "80c6b590-48f8-495a-8966-9a99239c162b",
   "metadata": {},
   "outputs": [],
   "source": [
    "fig_prob_MR_hRhY = make_prob_density_plot('MR_hRhY', 'random_MR_hRhY', 'hR/hY mirror repeats')"
   ]
  },
  {
   "cell_type": "code",
   "execution_count": null,
   "id": "e039e5c1-11cf-4c22-aa47-0012ba104de0",
   "metadata": {},
   "outputs": [],
   "source": [
    "fig_prob_MR_hRhY.write_image('../../papers/this lab/mirror_repeats/plots/KDE_MR_hRhY.pdf')"
   ]
  },
  {
   "cell_type": "code",
   "execution_count": null,
   "id": "4a0e98ba-f0e6-4b4f-afe6-67570422a715",
   "metadata": {},
   "outputs": [],
   "source": [
    "fig_prob_MR_hRhY = make_prob_density_plot('MR_other', 'random_MR_other', 'other mirror repeats')"
   ]
  },
  {
   "cell_type": "code",
   "execution_count": null,
   "id": "31d49cfe-32f3-40fb-8490-d3dbcdc8edca",
   "metadata": {},
   "outputs": [],
   "source": [
    "fig_prob_MR_hRhY.write_image('../../papers/this lab/mirror_repeats/plots/KDE_MR_other.pdf')"
   ]
  },
  {
   "cell_type": "markdown",
   "id": "cda3f9eb-b88f-4a41-a2cf-92e998e9431d",
   "metadata": {},
   "source": [
    "### IRs"
   ]
  },
  {
   "cell_type": "code",
   "execution_count": null,
   "id": "4ffc2896-8f18-48d7-ae61-0bb4b8fd16c1",
   "metadata": {},
   "outputs": [],
   "source": [
    "fig_prob_IR = make_prob_density_plot('IR', 'random_IR', 'inverted repeats')"
   ]
  },
  {
   "cell_type": "code",
   "execution_count": null,
   "id": "93fa2c39-24ef-4385-8dc6-7c488aa47e82",
   "metadata": {},
   "outputs": [],
   "source": [
    "fig_prob_IR.write_image('../../papers/this lab/mirror_repeats/plots/KDE_IR.pdf')"
   ]
  },
  {
   "cell_type": "markdown",
   "id": "db6c76c2-388d-451f-abaf-19b7bc6be7e7",
   "metadata": {},
   "source": [
    "### DRs"
   ]
  },
  {
   "cell_type": "code",
   "execution_count": null,
   "id": "583d255b-ec08-43b2-946b-3839631499c2",
   "metadata": {},
   "outputs": [],
   "source": [
    "fig_prob_DR = make_prob_density_plot('DR', 'random_DR', 'direct repeats')"
   ]
  },
  {
   "cell_type": "code",
   "execution_count": null,
   "id": "8dbf5ca5-feed-4605-86a4-33993671e198",
   "metadata": {},
   "outputs": [],
   "source": [
    "fig_prob_DR.write_image('../../papers/this lab/mirror_repeats/plots/KDE_DR.pdf')"
   ]
  },
  {
   "cell_type": "markdown",
   "id": "90e836c6-6b24-4740-99ba-46915dfcea5d",
   "metadata": {},
   "source": [
    "### G4s"
   ]
  },
  {
   "cell_type": "code",
   "execution_count": null,
   "id": "2be1df9c-9122-493c-80ce-13c527fa29ba",
   "metadata": {},
   "outputs": [],
   "source": [
    "fig_prob_G4 = make_prob_density_plot('G4', 'random_G4', 'G4 motifs')"
   ]
  },
  {
   "cell_type": "code",
   "execution_count": null,
   "id": "f0e41cbf-9f89-441c-b1cd-431add7aa2ba",
   "metadata": {},
   "outputs": [],
   "source": [
    "fig_prob_G4.write_image('../../papers/this lab/mirror_repeats/plots/KDE_G4.pdf')"
   ]
  },
  {
   "cell_type": "markdown",
   "id": "7fa9b628-669a-4ce6-b613-279a78968f12",
   "metadata": {},
   "source": [
    "# Motif counts"
   ]
  },
  {
   "cell_type": "code",
   "execution_count": null,
   "id": "3c284ccd-f030-48ad-be07-c2dab24cfa0f",
   "metadata": {},
   "outputs": [],
   "source": [
    "MR_counts = MR_all.groupby(['stem_len', '#MM'])['chrom'].count().unstack()\n",
    "IR_counts = IR_all.groupby(['stem_len', '#MM'])['chrom'].count().unstack()\n",
    "DR_counts = DR_all.groupby(['stem_len', '#MM'])['chrom'].count().unstack()\n",
    "G4_counts = G4seq_all.groupby(['length'])['chrom'].count()"
   ]
  },
  {
   "cell_type": "code",
   "execution_count": null,
   "id": "8815bd55-71d3-43be-9a94-8ab0e279d12c",
   "metadata": {},
   "outputs": [],
   "source": [
    "# Distributions for MRs with certain sequence composition requirements\n",
    "MR_hAT = MR_all.loc[(MR_all['%AT'] > 0.95) | (MR_all['%AT'] < 0.05)].copy()\n",
    "MR_hAC = MR_all.loc[(MR_all['%AC'] > 0.95) | (MR_all['%AC'] < 0.05)].copy()\n",
    "\n",
    "MR_hRhY_counts = MR_hRhY.groupby(['stem_len', '#MM'])['chrom'].count().unstack()\n",
    "MR_hAT_counts = MR_hAT.groupby(['stem_len', '#MM'])['chrom'].count().unstack()\n",
    "MR_hAC_counts = MR_hAC.groupby(['stem_len', '#MM'])['chrom'].count().unstack()\n",
    "\n",
    "MR_other_counts = MR_other.groupby(['stem_len', '#MM'])['chrom'].count().unstack()"
   ]
  },
  {
   "cell_type": "code",
   "execution_count": null,
   "id": "0e4a5992-bbc7-49dc-9219-fdfbd2d000d6",
   "metadata": {},
   "outputs": [],
   "source": [
    "# perfect motifs only\n",
    "perfect_counts = pd.concat([MR_counts[0], IR_counts[0], DR_counts[0], G4_counts, MR_hRhY_counts[0], MR_hAT_counts[0], MR_hAC_counts[0], MR_other_counts[0]], axis=1).sort_index()\n",
    "perfect_counts.columns = ['mirror repeats', 'inverted repeats', 'direct repeats', 'G4 motifs', 'hR/hY mirror repeats', 'hAT mirror repeats', 'hAC mirror repeats', 'other mirror repeats']\n",
    "\n",
    "perfect_counts_simple = pd.concat([MR_counts[0], IR_counts[0], DR_counts[0], G4_counts], axis=1).sort_index()\n",
    "perfect_counts_simple.columns = ['mirror repeats', 'inverted repeats', 'direct repeats', 'G4 motifs']"
   ]
  },
  {
   "cell_type": "markdown",
   "id": "923fa1ce-d7ba-494d-8a08-46653a68f0f9",
   "metadata": {},
   "source": [
    "## STRs"
   ]
  },
  {
   "cell_type": "markdown",
   "id": "398bad58-131a-4d30-93ae-765130655911",
   "metadata": {},
   "source": [
    "#### Load counts from previous study (McGinty et al, 2025)"
   ]
  },
  {
   "cell_type": "code",
   "execution_count": null,
   "id": "fc167296-fbc2-4e8b-999c-37fa046f794e",
   "metadata": {},
   "outputs": [],
   "source": [
    "CHM13_counts = pd.read_pickle('repeat_distributions/CHM13_counts.pickle').sort_index()"
   ]
  },
  {
   "cell_type": "markdown",
   "id": "c6df8f60-6ea5-4cf7-abed-7404f6cea394",
   "metadata": {},
   "source": [
    "#### Group STR motifs by unit length"
   ]
  },
  {
   "cell_type": "code",
   "execution_count": null,
   "id": "f5bdac73-2a78-4eb2-b411-af4376cdd7d4",
   "metadata": {},
   "outputs": [],
   "source": [
    "counts_by_unit_length = dict()\n",
    "for i in range(1,5):\n",
    "    counts_by_unit_length[i] = dict()\n",
    "for motif in CHM13_counts['A'].columns[:-1]:\n",
    "    counts_by_unit_length[len(motif)][motif] = CHM13_counts['A'][motif]\n",
    "for i in range(1,5):\n",
    "    counts_by_unit_length[i] = pd.concat(counts_by_unit_length[i], axis=1)\n",
    "    counts_by_unit_length[i]['all'] = counts_by_unit_length[i].sum(axis=1)"
   ]
  },
  {
   "cell_type": "markdown",
   "id": "aa8e3cc1-8b76-4392-aad1-00bbb10710f7",
   "metadata": {},
   "source": [
    "#### Group STR motifs according to nucleotide content\n"
   ]
  },
  {
   "cell_type": "code",
   "execution_count": null,
   "id": "5788d7a3-a7ee-4bf5-9df0-2fbfbf3f8f17",
   "metadata": {},
   "outputs": [],
   "source": [
    "CHM13_counts_nt = dict()\n",
    "for motif in CHM13_counts['A'].columns:\n",
    "    CHM13_counts_nt[motif] = CHM13_counts['A'][motif]\n",
    "    CHM13_counts_nt[motif].index = CHM13_counts_nt[motif].index * len(motif)\n",
    "CHM13_counts_nt = pd.concat(CHM13_counts_nt, axis=1)\n",
    "\n",
    "STR_counts_ntcontent = dict()\n",
    "STR_counts_ntcontent['AG'] = CHM13_counts_nt[['AG', 'AAG', 'AGG', 'AAAG', 'AAGG', 'AGGG']].replace(0, np.nan).dropna(how = 'all').interpolate(method = 'slinear').sum(axis=1).replace(0, np.nan).dropna()\n",
    "STR_counts_ntcontent['AC'] = CHM13_counts_nt[['AC', 'AAC', 'ACC', 'AAAC', 'AACC', 'ACCC']].replace(0, np.nan).dropna(how = 'all').interpolate(method = 'slinear').sum(axis=1).replace(0, np.nan).dropna()\n",
    "STR_counts_ntcontent['AT'] = CHM13_counts_nt[['AT', 'AAT', 'AAAT', 'AATT']].replace(0, np.nan).dropna(how = 'all').interpolate(method = 'slinear').sum(axis=1).replace(0, np.nan).dropna()\n",
    "STR_counts_ntcontent['other'] = CHM13_counts_nt[['CG', 'ATC', 'ACT', 'AGC', 'ACG', 'CCG', 'AATG', 'AATC', 'AAGT', 'AAGC', 'AACT', 'AACG', 'AGAT', 'ACAT', 'ATCC', 'ACAG', 'ACTC', 'ACTG', 'ACCT', 'AGGC', 'AGCC', 'ACGG', 'ACGC', 'ACCG', 'AGCG', 'CCCG', 'ATGC', 'ATCG', 'AGCT', 'ACGT', 'CCGG']].replace(0, np.nan).dropna(how = 'all').interpolate(method = 'slinear').sum(axis=1).replace(0, np.nan).dropna()\n",
    "STR_counts_ntcontent['all'] = CHM13_counts_nt[['A', 'C', 'AC', 'AT', 'AG', 'CG', 'AAT', 'AAG', 'AAC', 'ATC', 'ACT', 'AGG', 'AGC', 'ACG', 'ACC', 'CCG', 'AAAT', 'AAAG', 'AAAC', 'AATG', 'AATC', 'AAGT', 'AAGG', 'AAGC', 'AACT', 'AACG', 'AACC', 'AGAT', 'ACAT', 'ATCC', 'ACAG', 'ACTC', 'ACTG', 'ACCT', 'AGGG', 'AGGC', 'AGCC', 'ACGG', 'ACGC', 'ACCG', 'ACCC', 'AGCG', 'CCCG', 'AATT', 'ATGC', 'ATCG', 'AGCT', 'ACGT', 'CCGG']].replace(0, np.nan).dropna(how = 'all').interpolate(method = 'slinear').sum(axis=1).replace(0, np.nan).dropna()"
   ]
  },
  {
   "cell_type": "markdown",
   "id": "5e07d0dc-841d-491f-9af3-90020ba23a15",
   "metadata": {},
   "source": [
    "## MR count expectation in a randomized genome"
   ]
  },
  {
   "cell_type": "code",
   "execution_count": null,
   "id": "8377e8ed-0da7-4fe0-88e7-f80c860ea306",
   "metadata": {},
   "outputs": [],
   "source": [
    "def calculate_skew(sequence, count_in = False):\n",
    "    if count_in == False:\n",
    "        seq_counts = pd.Series([sequence.count('A'), sequence.count('T'), sequence.count('G'), sequence.count('C')], index = ['A', 'T', 'G', 'C'])\n",
    "    else:\n",
    "        seq_counts = sequence\n",
    "    return 1/pd.Series([(count / seq_counts.sum())**2 for count in seq_counts]).sum()\n",
    "\n",
    "base_counts = dict()\n",
    "for chrom in chrom_list_XY:\n",
    "    base_counts[chrom] = pd.Series([CHM13_genome[chrom].count('A'), CHM13_genome[chrom].count('T'), CHM13_genome[chrom].count('G'), CHM13_genome[chrom].count('C')], index = ['A', 'T', 'G', 'C'])\n",
    "base_counts = pd.concat(base_counts).unstack()\n",
    "\n",
    "# Same, using actual base counts in CHM13.\n",
    "base_counts_sum = pd.Series([base_counts.sum()['A'], base_counts.sum()['T'], base_counts.sum()['G'], base_counts.sum()['C']], index = ['A', 'T', 'G', 'C'])\n",
    "skew_CHM13 = calculate_skew(base_counts_sum, count_in=True)\n",
    "\n",
    "chrom_lengths = pd.Series([len(CHM13_genome[seq]) for seq in CHM13_genome], index = chrom_list_XY)\n",
    "MR_expectation_CHM13 = pd.Series([(chrom_lengths.sum()) * ((1/skew_CHM13)**length) for length in range(1,17)], index = list(range(1,17)))"
   ]
  },
  {
   "cell_type": "markdown",
   "id": "303baf13-ffad-4d46-98d7-c9939d75773e",
   "metadata": {},
   "source": [
    "## Plots"
   ]
  },
  {
   "cell_type": "code",
   "execution_count": null,
   "id": "108c32fc-23bf-4848-83c8-4f21c27e7626",
   "metadata": {},
   "outputs": [],
   "source": [
    "fig_starting_counts = go.Figure()\n",
    "for i in range(1,5):\n",
    "    fig_starting_counts.add_trace(go.Scatter(x = counts_by_unit_length[i].index * i, y = counts_by_unit_length[i]['all'].loc[counts_by_unit_length[i]['all'] >= 1], legendgroup = i, name = 'STR unit = '+str(i), line = dict(width = 3, color = plotly.colors.DEFAULT_PLOTLY_COLORS[i-1]), mode = 'lines', opacity = 0.5))\n",
    "for col in perfect_counts_simple:\n",
    "    fig_starting_counts.add_trace(go.Scatter(x = perfect_counts.index, y = perfect_counts[col].replace(0, np.nan), line = dict(width = 4 if col == 'mirror repeats' else 3), opacity = 0.9 if col == 'mirror repeats' else 0.4, connectgaps = False, name = col))\n",
    "fig_starting_counts.add_trace(go.Scatter(x = MR_expectation_CHM13.index, y = MR_expectation_CHM13, line = dict(dash = 'dash', width = 3, color = plotly.colors.DEFAULT_PLOTLY_COLORS[4]), mode = 'lines', opacity = 0.75, name = 'mirror (expectation)'))\n",
    "\n",
    "fig_starting_counts.update_xaxes(type = 'log', title = 'repeat length (nt)', range = [0,3.1])\n",
    "fig_starting_counts.update_yaxes(type = 'log', title = 'counts', tickformat = '1.0e', dtick = 2)\n",
    "fig_starting_counts.update_layout(font=dict(family = 'Helvetica', size = 14), legend = dict(yanchor=\"top\", y=0.99, xanchor=\"right\", x=1.1), height = 440, width = 800, margin={'t':20,'l':60,'b':40,'r':40})        \n",
    "fig_starting_counts.show()"
   ]
  },
  {
   "cell_type": "code",
   "execution_count": null,
   "id": "c1e0021f-5644-4505-afd8-a060b47b14a5",
   "metadata": {},
   "outputs": [],
   "source": [
    "fig_starting_counts.write_image('../../papers/this lab/mirror_repeats/plots/distributions.pdf')"
   ]
  },
  {
   "cell_type": "code",
   "execution_count": null,
   "id": "17f52ebd-3b64-4b18-834b-8494a0277653",
   "metadata": {},
   "outputs": [],
   "source": [
    "fig_starting_counts = go.Figure()\n",
    "fig_starting_counts.add_trace(go.Scatter(x = perfect_counts.index, y = perfect_counts['hR/hY mirror repeats'].replace(0, np.nan), line = dict(width = 3), opacity = 0.9, connectgaps = False, name = 'hR/hY mirror repeats'))\n",
    "fig_starting_counts.add_trace(go.Scatter(x = perfect_counts.index, y = perfect_counts['hAT mirror repeats'].replace(0, np.nan), line = dict(width = 3), opacity = 0.9, connectgaps = False, name = 'hW mirror repeats'))\n",
    "fig_starting_counts.add_trace(go.Scatter(x = perfect_counts.index, y = perfect_counts['hAC mirror repeats'].replace(0, np.nan), line = dict(width = 3), opacity = 0.9, connectgaps = False, name = 'hK/hM mirror repeats'))\n",
    "fig_starting_counts.add_trace(go.Scatter(x = perfect_counts.index, y = perfect_counts['other mirror repeats'].replace(0, np.nan), line = dict(width = 3), opacity = 0.9, connectgaps = False, name = 'all other mirror repeats'))\n",
    "\n",
    "fig_starting_counts.update_xaxes(type = 'log', title = 'repeat length (nt)', range = [1,2.5])\n",
    "fig_starting_counts.update_yaxes(type = 'log', title = 'counts', tickformat = '1.0e', dtick = 2)\n",
    "fig_starting_counts.update_layout(font=dict(family = 'Helvetica', size = 14), legend = dict(yanchor=\"top\", y=0.99, xanchor=\"right\", x=1.1), height = 240, width = 800, margin={'t':20,'l':60,'b':40,'r':40})        \n",
    "fig_starting_counts.show()"
   ]
  },
  {
   "cell_type": "code",
   "execution_count": null,
   "id": "696f802b-232b-4972-b835-3be89fc8df73",
   "metadata": {},
   "outputs": [],
   "source": [
    "fig_starting_counts.write_image('../../papers/this lab/mirror_repeats/plots/distributions_hRhY.pdf')"
   ]
  },
  {
   "cell_type": "code",
   "execution_count": null,
   "id": "9ac36516-1e28-410d-bcc1-34017ae7452e",
   "metadata": {},
   "outputs": [],
   "source": [
    "fig_starting_counts = go.Figure()\n",
    "fig_starting_counts.add_trace(go.Scatter(x = STR_counts_ntcontent['AG'].index, y = STR_counts_ntcontent['AG'], line = dict(width = 3), opacity = 0.9, connectgaps = False, name = 'A<sub>n</sub>G<sub>n</sub> STRs'))\n",
    "fig_starting_counts.add_trace(go.Scatter(x = STR_counts_ntcontent['AT'].index, y = STR_counts_ntcontent['AT'], line = dict(width = 3), opacity = 0.9, connectgaps = False, name = 'A<sub>n</sub>T<sub>n</sub> STRs'))\n",
    "fig_starting_counts.add_trace(go.Scatter(x = STR_counts_ntcontent['AC'].index, y = STR_counts_ntcontent['AC'], line = dict(width = 3), opacity = 0.9, connectgaps = False, name = 'A<sub>n</sub>C<sub>n</sub> STRs'))\n",
    "fig_starting_counts.add_trace(go.Scatter(x = STR_counts_ntcontent['other'].index, y = STR_counts_ntcontent['other'], line = dict(width = 3), opacity = 0.9, connectgaps = False, name = 'other STRs'))\n",
    "#fig_starting_counts.add_trace(go.Scatter(x = STR_counts_ntcontent['all'].index, y = STR_counts_ntcontent['all'], line = dict(width = 3), opacity = 0.9, connectgaps = False, name = 'all (1-4)'))\n",
    "\n",
    "\n",
    "fig_starting_counts.update_xaxes(type = 'log', title = 'repeat length (nt)', range = [1,2.5])\n",
    "fig_starting_counts.update_yaxes(type = 'log', range = [0, 6.5], title = 'counts', tickformat = '1.0e', dtick = 2)\n",
    "fig_starting_counts.update_layout(font=dict(family = 'Helvetica', size = 14), legend = dict(yanchor=\"top\", y=0.99, xanchor=\"right\", x=1.1), height = 240, width = 800, margin={'t':20,'l':60,'b':40,'r':40})        \n",
    "fig_starting_counts.show()"
   ]
  },
  {
   "cell_type": "code",
   "execution_count": null,
   "id": "ac5683e3-aae6-4f09-880e-6762c3fd8ff6",
   "metadata": {},
   "outputs": [],
   "source": [
    "fig_starting_counts.write_image('../../papers/this lab/mirror_repeats/plots/distributions_STRs_AnGn.pdf')"
   ]
  },
  {
   "cell_type": "code",
   "execution_count": null,
   "id": "b2b971e5-dee3-4df2-8eb6-0091898b97b2",
   "metadata": {},
   "outputs": [],
   "source": []
  }
 ],
 "metadata": {
  "kernelspec": {
   "display_name": "Python 3 (ipykernel)",
   "language": "python",
   "name": "python3"
  },
  "language_info": {
   "codemirror_mode": {
    "name": "ipython",
    "version": 3
   },
   "file_extension": ".py",
   "mimetype": "text/x-python",
   "name": "python",
   "nbconvert_exporter": "python",
   "pygments_lexer": "ipython3",
   "version": "3.12.8"
  }
 },
 "nbformat": 4,
 "nbformat_minor": 5
}
